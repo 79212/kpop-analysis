{
  "nbformat": 4,
  "nbformat_minor": 0,
  "metadata": {
    "colab": {
      "name": "K-pop_Data_Cleaning.ipynb",
      "provenance": [],
      "collapsed_sections": []
    },
    "kernelspec": {
      "name": "python3",
      "display_name": "Python 3"
    }
  },
  "cells": [
    {
      "cell_type": "markdown",
      "metadata": {
        "id": "-ORlSJfQfBNm",
        "colab_type": "text"
      },
      "source": [
        "#**Making Sense of K-Pop Using Machine Learning | Part 1 - Data Collection & Cleaning**\n",
        "\n",
        "Author: Jaemin Lee (aka. Import Data)\n",
        "\n",
        "Video version with explanation: [here](https://www.youtube.com/channel/UCYDacpfRrCX6_8oDDlzTgFw)"
      ]
    },
    {
      "cell_type": "markdown",
      "metadata": {
        "id": "qgsRQ2Mu0CYy",
        "colab_type": "text"
      },
      "source": [
        "# Import Basic Libraries & Connect to my Gdrive"
      ]
    },
    {
      "cell_type": "code",
      "metadata": {
        "id": "LdLHkzVizPKR",
        "colab_type": "code",
        "colab": {}
      },
      "source": [
        "import pandas as pd\n",
        "import numpy as np\n",
        "import sklearn"
      ],
      "execution_count": 0,
      "outputs": []
    },
    {
      "cell_type": "markdown",
      "metadata": {
        "id": "N8uWLJRO0238",
        "colab_type": "text"
      },
      "source": [
        "# Import Data"
      ]
    },
    {
      "cell_type": "code",
      "metadata": {
        "id": "ff4a-a6N02dS",
        "colab_type": "code",
        "colab": {}
      },
      "source": [
        "df = pd.read_excel(\"/content/KPOP DATA.xlsx\")"
      ],
      "execution_count": 0,
      "outputs": []
    },
    {
      "cell_type": "markdown",
      "metadata": {
        "id": "feM9S1JP1rNV",
        "colab_type": "text"
      },
      "source": [
        "# Data Cleaning\n",
        "\n"
      ]
    },
    {
      "cell_type": "code",
      "metadata": {
        "id": "vHbOpDoEenxt",
        "colab_type": "code",
        "colab": {}
      },
      "source": [
        "# function to remove the leading and trailing whtte space in the data frame\n",
        "def trim(dataset):\n",
        "  # using .strip() to remove the leading and the trailing white spaces in each cell\n",
        "  trim = lambda x: x.strip() if type(x) is str else x\n",
        "  return dataset.applymap(trim)\n",
        "\n",
        "df = trim(df)"
      ],
      "execution_count": 0,
      "outputs": []
    },
    {
      "cell_type": "code",
      "metadata": {
        "id": "Z68BYxAh10ZH",
        "colab_type": "code",
        "colab": {}
      },
      "source": [
        "# remove timestamp col using index\n",
        "df.drop(df.columns[[0]], axis = 1, inplace = True)"
      ],
      "execution_count": 0,
      "outputs": []
    },
    {
      "cell_type": "code",
      "metadata": {
        "id": "q4jEe2uPBj5Z",
        "colab_type": "code",
        "colab": {
          "base_uri": "https://localhost:8080/",
          "height": 989
        },
        "outputId": "b27577d5-a081-4b61-f695-1cd8d6530110"
      },
      "source": [
        "df.head()"
      ],
      "execution_count": 5,
      "outputs": [
        {
          "output_type": "execute_result",
          "data": {
            "text/html": [
              "<div>\n",
              "<style scoped>\n",
              "    .dataframe tbody tr th:only-of-type {\n",
              "        vertical-align: middle;\n",
              "    }\n",
              "\n",
              "    .dataframe tbody tr th {\n",
              "        vertical-align: top;\n",
              "    }\n",
              "\n",
              "    .dataframe thead th {\n",
              "        text-align: right;\n",
              "    }\n",
              "</style>\n",
              "<table border=\"1\" class=\"dataframe\">\n",
              "  <thead>\n",
              "    <tr style=\"text-align: right;\">\n",
              "      <th></th>\n",
              "      <th>Which is your favourite K-Pop group?</th>\n",
              "      <th>Is K-Pop popular in your country?</th>\n",
              "      <th>Why do you like K-Pop?</th>\n",
              "      <th>When did you start listening to K-Pop?</th>\n",
              "      <th>Do you listen to K-Pop male groups more than girl group songs?</th>\n",
              "      <th>How many hours do you spend listening to K-Pop?</th>\n",
              "      <th>Do you watch K-Pop Youtube videos?</th>\n",
              "      <th>If you do watch K-Pop music videos, how long do you spend watching them?</th>\n",
              "      <th>Would you say that you are obsessed with K-Pop?</th>\n",
              "      <th>What do you do to keep up with K-Pop news?</th>\n",
              "      <th>Has K-Pop led you to pursue any of the following?</th>\n",
              "      <th>Has consuming K-Pop taken away most of your time?</th>\n",
              "      <th>Has consuming K-Pop affected your personal life in the following ways?</th>\n",
              "      <th>Have you experienced any positive effects after consuming K-Pop?</th>\n",
              "      <th>On an average, in one year, how much do you spend on K-Pop merchandise?</th>\n",
              "      <th>If you do spend money on K-Pop merchandise, where do you get money from?</th>\n",
              "      <th>Do you attend K-Pop concerts?</th>\n",
              "      <th>What is the craziest thing you have done in your pursuit and love for K-Pop?</th>\n",
              "      <th>How old are you?</th>\n",
              "      <th>Which country are you from?</th>\n",
              "      <th>What is your profession?</th>\n",
              "      <th>What is your gender?</th>\n",
              "    </tr>\n",
              "  </thead>\n",
              "  <tbody>\n",
              "    <tr>\n",
              "      <th>0</th>\n",
              "      <td>BTS</td>\n",
              "      <td>Its gaining popularity</td>\n",
              "      <td>Its different from the usual music. I like som...</td>\n",
              "      <td>1 -2 years ago</td>\n",
              "      <td>Its about the music, not the gender</td>\n",
              "      <td>5 or more</td>\n",
              "      <td>Yes</td>\n",
              "      <td>2-3 hours</td>\n",
              "      <td>Not sure</td>\n",
              "      <td>Subscribe to K-Pop news sites;Subscribe to You...</td>\n",
              "      <td>Learning about Korean/Asian culture;Pursue dan...</td>\n",
              "      <td>No</td>\n",
              "      <td>Led to you being cajoled (made fun of) by clas...</td>\n",
              "      <td>Reduced stress/anxiety/depression</td>\n",
              "      <td>50 - 100 $</td>\n",
              "      <td>I have a full - time job</td>\n",
              "      <td>Yes</td>\n",
              "      <td>Missed days of work and school to attend concerts</td>\n",
              "      <td>15 - 20 years</td>\n",
              "      <td>A country in the UK</td>\n",
              "      <td>Sales</td>\n",
              "      <td>Female</td>\n",
              "    </tr>\n",
              "    <tr>\n",
              "      <th>1</th>\n",
              "      <td>BTS</td>\n",
              "      <td>Its gaining popularity</td>\n",
              "      <td>Its different from the usual music. I like som...</td>\n",
              "      <td>3-4 years ago</td>\n",
              "      <td>I listen to both</td>\n",
              "      <td>2-4 hours</td>\n",
              "      <td>Yes</td>\n",
              "      <td>2-3 hours</td>\n",
              "      <td>Yes</td>\n",
              "      <td>Subscribe to K-Pop news sites;Subscribe to You...</td>\n",
              "      <td>Learning music - either an instrument or singi...</td>\n",
              "      <td>Yes</td>\n",
              "      <td>Led to you being cajoled (made fun of) by clas...</td>\n",
              "      <td>Made friends who are like-minded</td>\n",
              "      <td>Below 50$</td>\n",
              "      <td>Working part-time</td>\n",
              "      <td>I want to, but the K-Pop groups don't come to ...</td>\n",
              "      <td>Listened to K-Pop without studying or working ...</td>\n",
              "      <td>15 - 20 years</td>\n",
              "      <td>A country in the UK</td>\n",
              "      <td>Student</td>\n",
              "      <td>Female</td>\n",
              "    </tr>\n",
              "    <tr>\n",
              "      <th>2</th>\n",
              "      <td>BTS;MONSTA X</td>\n",
              "      <td>Its gaining popularity</td>\n",
              "      <td>Its different from the usual music. I like som...</td>\n",
              "      <td>More than 4 years ago</td>\n",
              "      <td>Its about the music, not the gender</td>\n",
              "      <td>2-4 hours</td>\n",
              "      <td>Yes</td>\n",
              "      <td>2-3 hours</td>\n",
              "      <td>No</td>\n",
              "      <td>Subscribe to K-Pop news sites;Join K-pop socia...</td>\n",
              "      <td>Learning about Korean/Asian culture;Learn abou...</td>\n",
              "      <td>No</td>\n",
              "      <td>Led to you being cajoled (made fun of) by clas...</td>\n",
              "      <td>Made friends who are like-minded</td>\n",
              "      <td>50 - 100 $</td>\n",
              "      <td>Working part-time</td>\n",
              "      <td>Yes</td>\n",
              "      <td>Nothing as such</td>\n",
              "      <td>15 - 20 years</td>\n",
              "      <td>Other European countries</td>\n",
              "      <td>Student</td>\n",
              "      <td>Female</td>\n",
              "    </tr>\n",
              "    <tr>\n",
              "      <th>3</th>\n",
              "      <td>BTS</td>\n",
              "      <td>Its gaining popularity</td>\n",
              "      <td>Its different from the usual music. I like som...</td>\n",
              "      <td>3-4 years ago</td>\n",
              "      <td>I listen to both</td>\n",
              "      <td>5 or more</td>\n",
              "      <td>Yes</td>\n",
              "      <td>3-4 hours</td>\n",
              "      <td>No</td>\n",
              "      <td>Subscribe to K-Pop news sites;Subscribe to You...</td>\n",
              "      <td>Learning about Korean/Asian culture;Visit Korea</td>\n",
              "      <td>No</td>\n",
              "      <td>Led to you being cajoled (made fun of) by clas...</td>\n",
              "      <td>Reduced stress/anxiety/depression</td>\n",
              "      <td>50 - 100 $</td>\n",
              "      <td>Working part-time</td>\n",
              "      <td>Yes</td>\n",
              "      <td>Nothing as such</td>\n",
              "      <td>21 - 26 years</td>\n",
              "      <td>USA</td>\n",
              "      <td>Student</td>\n",
              "      <td>Female</td>\n",
              "    </tr>\n",
              "    <tr>\n",
              "      <th>4</th>\n",
              "      <td>BTS</td>\n",
              "      <td>Yes</td>\n",
              "      <td>Its different from the usual music. I like som...</td>\n",
              "      <td>3-4 years ago</td>\n",
              "      <td>Yes</td>\n",
              "      <td>5 or more</td>\n",
              "      <td>Yes</td>\n",
              "      <td>2-3 hours</td>\n",
              "      <td>Not sure</td>\n",
              "      <td>Subscribe to Youtube channels</td>\n",
              "      <td>Learning about Korean/Asian culture</td>\n",
              "      <td>Yes</td>\n",
              "      <td>Led to you being cajoled (made fun of) by clas...</td>\n",
              "      <td>Reduced stress/anxiety/depression</td>\n",
              "      <td>100 - 200$</td>\n",
              "      <td>Parents</td>\n",
              "      <td>I want to, but the K-Pop groups don't come to ...</td>\n",
              "      <td>Nothing as such</td>\n",
              "      <td>15 - 20 years</td>\n",
              "      <td>USA</td>\n",
              "      <td>Student</td>\n",
              "      <td>Female</td>\n",
              "    </tr>\n",
              "  </tbody>\n",
              "</table>\n",
              "</div>"
            ],
            "text/plain": [
              "  Which is your favourite K-Pop group?  ... What is your gender?\n",
              "0                                  BTS  ...               Female\n",
              "1                                  BTS  ...               Female\n",
              "2                         BTS;MONSTA X  ...               Female\n",
              "3                                  BTS  ...               Female\n",
              "4                                  BTS  ...               Female\n",
              "\n",
              "[5 rows x 22 columns]"
            ]
          },
          "metadata": {
            "tags": []
          },
          "execution_count": 5
        }
      ]
    },
    {
      "cell_type": "code",
      "metadata": {
        "id": "fi5UTBeF4NXv",
        "colab_type": "code",
        "colab": {}
      },
      "source": [
        "# rename column names as they are long\n",
        "df = df.rename(columns = {'Which is your favourite K-Pop group?': 'fav_grp',\n",
        "                          'Is K-Pop popular in your country? ': 'popl_by_co_yn',\n",
        "                          'Why do you like K-Pop?': 'reason',\n",
        "                          'When did you start listening to K-Pop?': 'yr_listened',\n",
        "                          'Do you listen to K-Pop male groups more than girl group songs?': 'gender_pref',\n",
        "                          'How many hours do you spend listening to K-Pop?': 'daily_music_hr',\n",
        "                          'Do you watch K-Pop Youtube videos?': 'watch_MV_yn',\n",
        "                          'If you do watch K-Pop music videos, how long do you spend watching them?': 'daily_MV_hr',\n",
        "                          'Would you say that you are obsessed with K-Pop?': 'obsessed_yn',\n",
        "                          'What do you do to keep up with K-Pop news?': 'news_medium',\n",
        "                          'Has K-Pop led you to pursue any of the following?': 'pursuit',\n",
        "                          'Has consuming K-Pop taken away most of your time?': 'time_cons_yn',\n",
        "                          'Has consuming K-Pop affected your personal life in the following ways?': 'life_chg',\n",
        "                          'Have you experienced any positive effects after consuming K-Pop? ': 'pos_eff',\n",
        "                          'On an average, in one year, how much do you spend on K-Pop merchandise?': 'yr_merch_spent',\n",
        "                          'If you do spend money on K-Pop merchandise, where do you get money from?': 'money_src',\n",
        "                          'Do you attend K-Pop concerts?': 'concert_yn',\n",
        "                          'What is the craziest thing you have done in your pursuit and love for K-Pop?': 'crazy_ev',\n",
        "                          'How old are you?': 'age',\n",
        "                          'Which country are you from?': 'country',\n",
        "                          'What is your profession?': 'job',\n",
        "                          'What is your gender?': 'gender'\n",
        "                          })"
      ],
      "execution_count": 0,
      "outputs": []
    },
    {
      "cell_type": "code",
      "metadata": {
        "id": "5u5VPmWzCbMr",
        "colab_type": "code",
        "outputId": "5184f390-fedb-49c4-ae26-8248c68dad97",
        "colab": {
          "base_uri": "https://localhost:8080/",
          "height": 408
        }
      },
      "source": [
        "## check for null value\n",
        "df.isnull().sum()"
      ],
      "execution_count": 7,
      "outputs": [
        {
          "output_type": "execute_result",
          "data": {
            "text/plain": [
              "fav_grp           0\n",
              "popl_by_co_yn     0\n",
              "reason            0\n",
              "yr_listened       0\n",
              "gender_pref       0\n",
              "daily_music_hr    0\n",
              "watch_MV_yn       0\n",
              "daily_MV_hr       5\n",
              "obsessed_yn       0\n",
              "news_medium       0\n",
              "pursuit           0\n",
              "time_cons_yn      0\n",
              "life_chg          1\n",
              "pos_eff           0\n",
              "yr_merch_spent    0\n",
              "money_src         1\n",
              "concert_yn        0\n",
              "crazy_ev          0\n",
              "age               0\n",
              "country           0\n",
              "job               0\n",
              "gender            0\n",
              "dtype: int64"
            ]
          },
          "metadata": {
            "tags": []
          },
          "execution_count": 7
        }
      ]
    },
    {
      "cell_type": "markdown",
      "metadata": {
        "id": "Tzk9J_3SnXlC",
        "colab_type": "text"
      },
      "source": [
        "Replace the null value in the \"life_chg\" column"
      ]
    },
    {
      "cell_type": "code",
      "metadata": {
        "id": "VEUrP9VVndGY",
        "colab_type": "code",
        "outputId": "59fa923b-f06c-4001-ebf9-b63e986b998f",
        "colab": {
          "base_uri": "https://localhost:8080/",
          "height": 408
        }
      },
      "source": [
        "# simply replace it with \"none\"\n",
        "df[\"life_chg\"].fillna(\"none\", inplace = True)\n",
        "df.isnull().sum()"
      ],
      "execution_count": 8,
      "outputs": [
        {
          "output_type": "execute_result",
          "data": {
            "text/plain": [
              "fav_grp           0\n",
              "popl_by_co_yn     0\n",
              "reason            0\n",
              "yr_listened       0\n",
              "gender_pref       0\n",
              "daily_music_hr    0\n",
              "watch_MV_yn       0\n",
              "daily_MV_hr       5\n",
              "obsessed_yn       0\n",
              "news_medium       0\n",
              "pursuit           0\n",
              "time_cons_yn      0\n",
              "life_chg          0\n",
              "pos_eff           0\n",
              "yr_merch_spent    0\n",
              "money_src         1\n",
              "concert_yn        0\n",
              "crazy_ev          0\n",
              "age               0\n",
              "country           0\n",
              "job               0\n",
              "gender            0\n",
              "dtype: int64"
            ]
          },
          "metadata": {
            "tags": []
          },
          "execution_count": 8
        }
      ]
    },
    {
      "cell_type": "markdown",
      "metadata": {
        "id": "lPQ3sgwCqH7I",
        "colab_type": "text"
      },
      "source": [
        "Replace the null value in the \"money_src\" column"
      ]
    },
    {
      "cell_type": "code",
      "metadata": {
        "id": "9i-dWTS7qHHX",
        "colab_type": "code",
        "outputId": "7efcc0ab-b2cd-4916-b909-a43c44742a23",
        "colab": {
          "base_uri": "https://localhost:8080/",
          "height": 408
        }
      },
      "source": [
        "# simply replace it with \"none\"\n",
        "df[\"money_src\"].fillna(\"none\", inplace = True)\n",
        "df.isnull().sum()"
      ],
      "execution_count": 9,
      "outputs": [
        {
          "output_type": "execute_result",
          "data": {
            "text/plain": [
              "fav_grp           0\n",
              "popl_by_co_yn     0\n",
              "reason            0\n",
              "yr_listened       0\n",
              "gender_pref       0\n",
              "daily_music_hr    0\n",
              "watch_MV_yn       0\n",
              "daily_MV_hr       5\n",
              "obsessed_yn       0\n",
              "news_medium       0\n",
              "pursuit           0\n",
              "time_cons_yn      0\n",
              "life_chg          0\n",
              "pos_eff           0\n",
              "yr_merch_spent    0\n",
              "money_src         0\n",
              "concert_yn        0\n",
              "crazy_ev          0\n",
              "age               0\n",
              "country           0\n",
              "job               0\n",
              "gender            0\n",
              "dtype: int64"
            ]
          },
          "metadata": {
            "tags": []
          },
          "execution_count": 9
        }
      ]
    },
    {
      "cell_type": "markdown",
      "metadata": {
        "id": "xkHJAoG2PQTB",
        "colab_type": "text"
      },
      "source": [
        "Cleaning the null values in the \"daily_MV_hr\" column\n"
      ]
    },
    {
      "cell_type": "code",
      "metadata": {
        "id": "RKE8SgLxJFx8",
        "colab_type": "code",
        "outputId": "d32dfa42-3091-4e41-fa5f-ba2b70751ce5",
        "colab": {
          "base_uri": "https://localhost:8080/",
          "height": 102
        }
      },
      "source": [
        "# get the hang of what the values look like\n",
        "df[\"daily_MV_hr\"].value_counts()"
      ],
      "execution_count": 10,
      "outputs": [
        {
          "output_type": "execute_result",
          "data": {
            "text/plain": [
              "1 hour                  118\n",
              "2-3 hours                84\n",
              "3-4 hours                20\n",
              "More than four hours     13\n",
              "Name: daily_MV_hr, dtype: int64"
            ]
          },
          "metadata": {
            "tags": []
          },
          "execution_count": 10
        }
      ]
    },
    {
      "cell_type": "code",
      "metadata": {
        "id": "1MuIWmGoWFot",
        "colab_type": "code",
        "outputId": "d8ed2c53-1725-49a9-d8a3-6746538ee697",
        "colab": {
          "base_uri": "https://localhost:8080/",
          "height": 408
        }
      },
      "source": [
        "# replace the null with the average\n",
        "df[\"daily_MV_hr\"].fillna(\"2.5\", inplace = True)\n",
        "df.isnull().sum()"
      ],
      "execution_count": 11,
      "outputs": [
        {
          "output_type": "execute_result",
          "data": {
            "text/plain": [
              "fav_grp           0\n",
              "popl_by_co_yn     0\n",
              "reason            0\n",
              "yr_listened       0\n",
              "gender_pref       0\n",
              "daily_music_hr    0\n",
              "watch_MV_yn       0\n",
              "daily_MV_hr       0\n",
              "obsessed_yn       0\n",
              "news_medium       0\n",
              "pursuit           0\n",
              "time_cons_yn      0\n",
              "life_chg          0\n",
              "pos_eff           0\n",
              "yr_merch_spent    0\n",
              "money_src         0\n",
              "concert_yn        0\n",
              "crazy_ev          0\n",
              "age               0\n",
              "country           0\n",
              "job               0\n",
              "gender            0\n",
              "dtype: int64"
            ]
          },
          "metadata": {
            "tags": []
          },
          "execution_count": 11
        }
      ]
    },
    {
      "cell_type": "code",
      "metadata": {
        "id": "SNOCePLA7UHM",
        "colab_type": "code",
        "outputId": "6f5f283c-191b-4064-f0fa-71e3d7512744",
        "colab": {
          "base_uri": "https://localhost:8080/",
          "height": 119
        }
      },
      "source": [
        "# convert \"More than four hours\" to 4.5\n",
        "daily_mv = df[\"daily_MV_hr\"]\n",
        "daily_mv = daily_mv.str.replace('More than four hours', '4.5')\n",
        "daily_mv.value_counts()"
      ],
      "execution_count": 12,
      "outputs": [
        {
          "output_type": "execute_result",
          "data": {
            "text/plain": [
              "1 hour       118\n",
              "2-3 hours     84\n",
              "3-4 hours     20\n",
              "4.5           13\n",
              "2.5            5\n",
              "Name: daily_MV_hr, dtype: int64"
            ]
          },
          "metadata": {
            "tags": []
          },
          "execution_count": 12
        }
      ]
    },
    {
      "cell_type": "code",
      "metadata": {
        "id": "wQQ_5eT57_GM",
        "colab_type": "code",
        "outputId": "906b8eea-e97f-439e-e8b7-a3744c5926e1",
        "colab": {
          "base_uri": "https://localhost:8080/",
          "height": 119
        }
      },
      "source": [
        "# parse the hours\n",
        "daily_mv = daily_mv.apply(lambda x: x.split(' ')[0]) # look for the whitespace, split it and get the first element\n",
        "daily_mv.value_counts()"
      ],
      "execution_count": 13,
      "outputs": [
        {
          "output_type": "execute_result",
          "data": {
            "text/plain": [
              "1      118\n",
              "2-3     84\n",
              "3-4     20\n",
              "4.5     13\n",
              "2.5      5\n",
              "Name: daily_MV_hr, dtype: int64"
            ]
          },
          "metadata": {
            "tags": []
          },
          "execution_count": 13
        }
      ]
    },
    {
      "cell_type": "code",
      "metadata": {
        "id": "-5VRTe9K-WCQ",
        "colab_type": "code",
        "colab": {}
      },
      "source": [
        "# function to find the mean when some have ranges and others don't\n",
        "def split_mean(x):\n",
        "  # split before and after the hyphen (-)\n",
        "  split_num = x.split(\"-\")\n",
        "  if len(split_num) == 2:\n",
        "     return (float(split_num[0])+float(split_num[1]))/2\n",
        "  # those who aren't in the range\n",
        "  else:\n",
        "     return float(x)\n",
        "\n",
        "# apply the split_mean function to the \"daily MV hours\" column\n",
        "daily_mv = daily_mv.apply(lambda x: split_mean(x))"
      ],
      "execution_count": 0,
      "outputs": []
    },
    {
      "cell_type": "code",
      "metadata": {
        "id": "2JzglGAeYP8V",
        "colab_type": "code",
        "outputId": "a6917cf8-bdda-4edd-9e6a-c454a865719c",
        "colab": {
          "base_uri": "https://localhost:8080/",
          "height": 102
        }
      },
      "source": [
        "# overwrite it to the original dataset\n",
        "df[\"daily_MV_hr\"] = daily_mv\n",
        "\n",
        "df[\"daily_MV_hr\"].value_counts()"
      ],
      "execution_count": 15,
      "outputs": [
        {
          "output_type": "execute_result",
          "data": {
            "text/plain": [
              "1.0    118\n",
              "2.5     89\n",
              "3.5     20\n",
              "4.5     13\n",
              "Name: daily_MV_hr, dtype: int64"
            ]
          },
          "metadata": {
            "tags": []
          },
          "execution_count": 15
        }
      ]
    },
    {
      "cell_type": "markdown",
      "metadata": {
        "id": "U5U3SxBWWeXA",
        "colab_type": "text"
      },
      "source": [
        "Cleaning the \"yr_listened\" column"
      ]
    },
    {
      "cell_type": "code",
      "metadata": {
        "id": "wMrkVMVoWdlM",
        "colab_type": "code",
        "outputId": "801a64c9-44bb-438b-c221-40d2b67efa5c",
        "colab": {
          "base_uri": "https://localhost:8080/",
          "height": 258
        }
      },
      "source": [
        "df[\"yr_listened\"].value_counts()"
      ],
      "execution_count": 16,
      "outputs": [
        {
          "output_type": "execute_result",
          "data": {
            "text/plain": [
              "3-4 years ago                                                                                                                                                                                               89\n",
              "More than 4 years ago                                                                                                                                                                                       69\n",
              "1 -2 years ago                                                                                                                                                                                              66\n",
              "Less than a year ago                                                                                                                                                                                         7\n",
              "7 years ago                                                                                                                                                                                                  2\n",
              "7 years                                                                                                                                                                                                      1\n",
              "Started in 2006                                                                                                                                                                                              1\n",
              "9 years coming April                                                                                                                                                                                         1\n",
              "9 years, since 2010                                                                                                                                                                                          1\n",
              "About 6 years ago, I got introduced to 2ne1 which was their song called â€œI am the bestâ€. So sad they disbanded                                                                                           1\n",
              "8+ years ago                                                                                                                                                                                                 1\n",
              "Iâ€™ve been listening to it all my life basically, my cousins are Asian, and Iâ€™m mexican, so people think Iâ€™m just a koreaboo, when in reality Iâ€™ve only ever listened to korean and Chinese music     1\n",
              "Name: yr_listened, dtype: int64"
            ]
          },
          "metadata": {
            "tags": []
          },
          "execution_count": 16
        }
      ]
    },
    {
      "cell_type": "code",
      "metadata": {
        "id": "wb2LtfDSXZe1",
        "colab_type": "code",
        "outputId": "875355af-0269-4870-97b8-798cc9cf1363",
        "colab": {
          "base_uri": "https://localhost:8080/",
          "height": 221
        }
      },
      "source": [
        "# replace certain strings\n",
        "df[\"yr_listened\"] = df[\"yr_listened\"].str.replace(\"3-4 years ago\", \"3.5\")\n",
        "df[\"yr_listened\"] = df[\"yr_listened\"].str.replace(\"1 -2 years ago\", \"1.5\")\n",
        "df[\"yr_listened\"] = df[\"yr_listened\"].str.replace(\"More than 4 years ago\", \"4\")\n",
        "df[\"yr_listened\"] = df[\"yr_listened\"].str.replace(\"Less than a year ago\", \"1\")\n",
        "df[\"yr_listened\"] = df[\"yr_listened\"].str.replace(\"Iâ€™ve been listening to it all my life basically, my cousins are Asian, and Iâ€™m mexican, so people think Iâ€™m just a koreaboo, when in reality Iâ€™ve only ever listened to korean and Chinese music\", \"6\")\n",
        "df[\"yr_listened\"] = df[\"yr_listened\"].str.replace(\"About 6 years ago, I got introduced to 2ne1 which was their song called â€œI am the bestâ€. So sad they disbanded\", \"6\")\n",
        "df[\"yr_listened\"] = df[\"yr_listened\"].str.replace(\"Started in 2006\", \"14\")\n",
        "\n",
        "df[\"yr_listened\"].value_counts()"
      ],
      "execution_count": 17,
      "outputs": [
        {
          "output_type": "execute_result",
          "data": {
            "text/plain": [
              "3.5                     89\n",
              "4                       69\n",
              "1.5                     66\n",
              "1                        7\n",
              "7 years ago              2\n",
              "6                        2\n",
              "7 years                  1\n",
              "9 years coming April     1\n",
              "9 years, since 2010      1\n",
              "14                       1\n",
              "8+ years ago             1\n",
              "Name: yr_listened, dtype: int64"
            ]
          },
          "metadata": {
            "tags": []
          },
          "execution_count": 17
        }
      ]
    },
    {
      "cell_type": "code",
      "metadata": {
        "id": "1piVxwQZn_RF",
        "colab_type": "code",
        "outputId": "8194c328-20bb-4b04-aed5-8cd35012fdc1",
        "colab": {
          "base_uri": "https://localhost:8080/",
          "height": 187
        }
      },
      "source": [
        "# parse the years\n",
        "yrs_listen = df[\"yr_listened\"].apply(lambda x: x.split(' ')[0]) # look for the whitespace, split it and get the first element\n",
        "yrs_listen.value_counts()"
      ],
      "execution_count": 18,
      "outputs": [
        {
          "output_type": "execute_result",
          "data": {
            "text/plain": [
              "3.5    89\n",
              "4      69\n",
              "1.5    66\n",
              "1       7\n",
              "7       3\n",
              "6       2\n",
              "9       2\n",
              "8+      1\n",
              "14      1\n",
              "Name: yr_listened, dtype: int64"
            ]
          },
          "metadata": {
            "tags": []
          },
          "execution_count": 18
        }
      ]
    },
    {
      "cell_type": "code",
      "metadata": {
        "id": "iozKJIPvobS2",
        "colab_type": "code",
        "outputId": "13b87273-8f41-449c-8d64-003eaf312a92",
        "colab": {
          "base_uri": "https://localhost:8080/",
          "height": 187
        }
      },
      "source": [
        "# remove the + sign\n",
        "yrs_listen = yrs_listen.apply(lambda x: x.replace('+', \"\"))\n",
        "yrs_listen.value_counts()"
      ],
      "execution_count": 19,
      "outputs": [
        {
          "output_type": "execute_result",
          "data": {
            "text/plain": [
              "3.5    89\n",
              "4      69\n",
              "1.5    66\n",
              "1       7\n",
              "7       3\n",
              "6       2\n",
              "9       2\n",
              "14      1\n",
              "8       1\n",
              "Name: yr_listened, dtype: int64"
            ]
          },
          "metadata": {
            "tags": []
          },
          "execution_count": 19
        }
      ]
    },
    {
      "cell_type": "markdown",
      "metadata": {
        "id": "CJcnuSuJpCrL",
        "colab_type": "text"
      },
      "source": [
        "Cleaning the \"daily_music_hr\" column"
      ]
    },
    {
      "cell_type": "code",
      "metadata": {
        "id": "twKdXsyzo_PA",
        "colab_type": "code",
        "outputId": "19d6f09d-e94b-400f-e721-9fa8a2afe338",
        "colab": {
          "base_uri": "https://localhost:8080/",
          "height": 479
        }
      },
      "source": [
        "df[\"daily_music_hr\"].value_counts()"
      ],
      "execution_count": 20,
      "outputs": [
        {
          "output_type": "execute_result",
          "data": {
            "text/plain": [
              "2-4 hours                                                                                                                                                                                                                                                                                                                                                               106\n",
              "5 or more                                                                                                                                                                                                                                                                                                                                                                99\n",
              "Less than an hour                                                                                                                                                                                                                                                                                                                                                        11\n",
              "2020-07-24 00:00:00                                                                                                                                                                                                                                                                                                                                                       2\n",
              "Everyday                                                                                                                                                                                                                                                                                                                                                                  2\n",
              "Itâ€™s mainly the only music I listen to anymore, I listen to music all the time                                                                                                                                                                                                                                                                                          1\n",
              "The whole day almost                                                                                                                                                                                                                                                                                                                                                      1\n",
              "Most of the time.                                                                                                                                                                                                                                                                                                                                                         1\n",
              "I don't rlly listen to music, music is like food to me. When I crave a song, I listen to it. So probably less than an hour? When Monsta X has comebacks I do stream (but it's just playing in the background sometimes my earphones are plugged in so I don't actually hear it)... I listen to it for almost the whole day I guess... gotta get those views and wins      1\n",
              "Over half of my day (12+ hours)                                                                                                                                                                                                                                                                                                                                           1\n",
              "I mix in other songs in other languages too so very Day is different                                                                                                                                                                                                                                                                                                      1\n",
              "It's depend on day. Usually one or two hours, sometimes more, sometimes, when I overeat kpop I need to do break.                                                                                                                                                                                                                                                          1\n",
              "Everyday, constantly                                                                                                                                                                                                                                                                                                                                                      1\n",
              "All the time.                                                                                                                                                                                                                                                                                                                                                             1\n",
              "Almost all day                                                                                                                                                                                                                                                                                                                                                            1\n",
              "Hours on end                                                                                                                                                                                                                                                                                                                                                              1\n",
              "Idk depends on my mood. But I can liste during multiple hours definitely.                                                                                                                                                                                                                                                                                                 1\n",
              "Nearly every hour unless im sleeping                                                                                                                                                                                                                                                                                                                                      1\n",
              "Anytime I listen to music thatâ€™s all I listen to                                                                                                                                                                                                                                                                                                                        1\n",
              "Every time but only when I get the chance cause Iâ€™m busy with school .                                                                                                                                                                                                                                                                                                  1\n",
              "Eh                                                                                                                                                                                                                                                                                                                                                                        1\n",
              "depends if iâ€™m in the mood for it                                                                                                                                                                                                                                                                                                                                       1\n",
              "Whenever Iâ€™m listening to music, basically                                                                                                                                                                                                                                                                                                                              1\n",
              "Any chance that i get. (I dont really count the hours)                                                                                                                                                                                                                                                                                                                    1\n",
              "All day                                                                                                                                                                                                                                                                                                                                                                   1\n",
              "Name: daily_music_hr, dtype: int64"
            ]
          },
          "metadata": {
            "tags": []
          },
          "execution_count": 20
        }
      ]
    },
    {
      "cell_type": "code",
      "metadata": {
        "id": "gGouVjdu2SNi",
        "colab_type": "code",
        "outputId": "e352076c-d46d-4ae4-d558-b3782ef4a234",
        "colab": {
          "base_uri": "https://localhost:8080/",
          "height": 462
        }
      },
      "source": [
        "# convert the timestamp (2020-07-24 00:00:00) to 5 or more\n",
        "df.iloc[156, 5] = \"5 or more\"\n",
        "df.iloc[170, 5] = \"5 or more\"\n",
        "\n",
        "df[\"daily_music_hr\"].value_counts()"
      ],
      "execution_count": 21,
      "outputs": [
        {
          "output_type": "execute_result",
          "data": {
            "text/plain": [
              "2-4 hours                                                                                                                                                                                                                                                                                                                                                               106\n",
              "5 or more                                                                                                                                                                                                                                                                                                                                                               101\n",
              "Less than an hour                                                                                                                                                                                                                                                                                                                                                        11\n",
              "Everyday                                                                                                                                                                                                                                                                                                                                                                  2\n",
              "Almost all day                                                                                                                                                                                                                                                                                                                                                            1\n",
              "The whole day almost                                                                                                                                                                                                                                                                                                                                                      1\n",
              "Most of the time.                                                                                                                                                                                                                                                                                                                                                         1\n",
              "I don't rlly listen to music, music is like food to me. When I crave a song, I listen to it. So probably less than an hour? When Monsta X has comebacks I do stream (but it's just playing in the background sometimes my earphones are plugged in so I don't actually hear it)... I listen to it for almost the whole day I guess... gotta get those views and wins      1\n",
              "Over half of my day (12+ hours)                                                                                                                                                                                                                                                                                                                                           1\n",
              "I mix in other songs in other languages too so very Day is different                                                                                                                                                                                                                                                                                                      1\n",
              "It's depend on day. Usually one or two hours, sometimes more, sometimes, when I overeat kpop I need to do break.                                                                                                                                                                                                                                                          1\n",
              "Everyday, constantly                                                                                                                                                                                                                                                                                                                                                      1\n",
              "Itâ€™s mainly the only music I listen to anymore, I listen to music all the time                                                                                                                                                                                                                                                                                          1\n",
              "All the time.                                                                                                                                                                                                                                                                                                                                                             1\n",
              "Hours on end                                                                                                                                                                                                                                                                                                                                                              1\n",
              "Idk depends on my mood. But I can liste during multiple hours definitely.                                                                                                                                                                                                                                                                                                 1\n",
              "Nearly every hour unless im sleeping                                                                                                                                                                                                                                                                                                                                      1\n",
              "Anytime I listen to music thatâ€™s all I listen to                                                                                                                                                                                                                                                                                                                        1\n",
              "Every time but only when I get the chance cause Iâ€™m busy with school .                                                                                                                                                                                                                                                                                                  1\n",
              "Eh                                                                                                                                                                                                                                                                                                                                                                        1\n",
              "depends if iâ€™m in the mood for it                                                                                                                                                                                                                                                                                                                                       1\n",
              "Whenever Iâ€™m listening to music, basically                                                                                                                                                                                                                                                                                                                              1\n",
              "Any chance that i get. (I dont really count the hours)                                                                                                                                                                                                                                                                                                                    1\n",
              "All day                                                                                                                                                                                                                                                                                                                                                                   1\n",
              "Name: daily_music_hr, dtype: int64"
            ]
          },
          "metadata": {
            "tags": []
          },
          "execution_count": 21
        }
      ]
    },
    {
      "cell_type": "code",
      "metadata": {
        "id": "OLPbkb29z6SS",
        "colab_type": "code",
        "outputId": "0555933d-6236-49e1-c637-dc03a8faae87",
        "colab": {
          "base_uri": "https://localhost:8080/",
          "height": 408
        }
      },
      "source": [
        "# parse the hour\n",
        "df[\"daily_music_hr\"] = df[\"daily_music_hr\"].apply(lambda x: x.split(\" \")[0])\n",
        "df[\"daily_music_hr\"].value_counts()"
      ],
      "execution_count": 22,
      "outputs": [
        {
          "output_type": "execute_result",
          "data": {
            "text/plain": [
              "2-4          106\n",
              "5            101\n",
              "Less          11\n",
              "Everyday       2\n",
              "All            2\n",
              "I              2\n",
              "The            1\n",
              "Over           1\n",
              "Everyday,      1\n",
              "Almost         1\n",
              "depends        1\n",
              "Hours          1\n",
              "It's           1\n",
              "Anytime        1\n",
              "Most           1\n",
              "Any            1\n",
              "Every          1\n",
              "Eh             1\n",
              "Nearly         1\n",
              "Itâ€™s         1\n",
              "Idk            1\n",
              "Whenever       1\n",
              "Name: daily_music_hr, dtype: int64"
            ]
          },
          "metadata": {
            "tags": []
          },
          "execution_count": 22
        }
      ]
    },
    {
      "cell_type": "code",
      "metadata": {
        "id": "_76ZvVuLvurO",
        "colab_type": "code",
        "outputId": "bfe843d1-a116-4ddc-f6dc-506238df8f37",
        "colab": {
          "base_uri": "https://localhost:8080/",
          "height": 34
        }
      },
      "source": [
        "# get the location of \"daily music hourst\" for the for loop\n",
        "df.columns.get_loc(\"daily_music_hr\")"
      ],
      "execution_count": 23,
      "outputs": [
        {
          "output_type": "execute_result",
          "data": {
            "text/plain": [
              "5"
            ]
          },
          "metadata": {
            "tags": []
          },
          "execution_count": 23
        }
      ]
    },
    {
      "cell_type": "code",
      "metadata": {
        "id": "2v1OKD6CsCyb",
        "colab_type": "code",
        "outputId": "0a8a0825-f680-4d13-b65c-cbe55412c1d1",
        "colab": {
          "base_uri": "https://localhost:8080/",
          "height": 102
        }
      },
      "source": [
        "# write a for loop to clean the data\n",
        "for row in range(0, len(df[\"daily_music_hr\"])):\n",
        "  if '2-4' in df.iloc[row, 5]:\n",
        "    # mean of 2+4\n",
        "    df.iloc[row, 5] = \"3\"\n",
        "  elif '5' in df.iloc[row, 5]:\n",
        "    df.iloc[row, 5] = \"5\"\n",
        "  elif 'Less' in df.iloc[row, 5]:\n",
        "    df.iloc[row, 5] = \"0.5\"\n",
        "  else:\n",
        "    df.iloc[row, 5] = \"10\"\n",
        "\n",
        "df[\"daily_music_hr\"].value_counts()"
      ],
      "execution_count": 24,
      "outputs": [
        {
          "output_type": "execute_result",
          "data": {
            "text/plain": [
              "3      106\n",
              "5      101\n",
              "10      22\n",
              "0.5     11\n",
              "Name: daily_music_hr, dtype: int64"
            ]
          },
          "metadata": {
            "tags": []
          },
          "execution_count": 24
        }
      ]
    },
    {
      "cell_type": "markdown",
      "metadata": {
        "id": "PkTo-82Me2ix",
        "colab_type": "text"
      },
      "source": [
        "Clean the \"yr_merch_spent\" column"
      ]
    },
    {
      "cell_type": "code",
      "metadata": {
        "id": "WlcIlcaOe1nc",
        "colab_type": "code",
        "outputId": "6b069dc0-9e83-4326-99d4-33a31993ee60",
        "colab": {
          "base_uri": "https://localhost:8080/",
          "height": 428
        }
      },
      "source": [
        "df[\"yr_merch_spent\"].value_counts()"
      ],
      "execution_count": 25,
      "outputs": [
        {
          "output_type": "execute_result",
          "data": {
            "text/plain": [
              "Below 50$                                                                                                                                         91\n",
              "50 - 100 $                                                                                                                                        57\n",
              "I don't spend anything on merchandise                                                                                                             49\n",
              "100 - 200$                                                                                                                                        25\n",
              "A lot I donâ€™t even want to know how much                                                                                                         1\n",
              "Iâ€™ve spent 200-300 dollars, but i chose not to spend much more unless its clothing or a physical concert. Plus i rlly only ult stan 2 groups     1\n",
              "$2,000                                                                                                                                             1\n",
              "Because Iâ€™m younger I donâ€™t have the money to spend on official kpop mercy but I do buy smaller things to represent the groups.                1\n",
              "Kpop is an expensive hobby I go to concerts and buy albums so I would say Iâ€™ve spent more than 1k                                                1\n",
              "I would like to but I don't have money                                                                                                             1\n",
              "10?                                                                                                                                                1\n",
              "I spend less than $50 cuz I'm broke, but if I had money, I would probably spend $200+                                                              1\n",
              "Depends but usually not a lot.                                                                                                                     1\n",
              "Below 30$                                                                                                                                          1\n",
              "What if you don't know, since everything you own that is K-Pop related were all gifts?                                                             1\n",
              "I've bought some albums over the past few years but its just like a xmas / bday thing i do so twice a year i just purchase however many i can      1\n",
              "I donâ€™t buy everything. I buy things if I feel I will use them                                                                                   1\n",
              "Never until Monsta X existed and it's about $300 a year                                                                                            1\n",
              "Iâ€™ve spent probably over $5,000 total on kpop merch (including tickets)                                                                          1\n",
              "Depends month to month and what i want to buy                                                                                                      1\n",
              "More than $200                                                                                                                                     1\n",
              "I've only ever bought merchandise from the two concerts I've been too and that's it.                                                               1\n",
              "Name: yr_merch_spent, dtype: int64"
            ]
          },
          "metadata": {
            "tags": []
          },
          "execution_count": 25
        }
      ]
    },
    {
      "cell_type": "code",
      "metadata": {
        "id": "4Ng34TorgIox",
        "colab_type": "code",
        "outputId": "78982319-d8b7-46bf-dbd0-f25689fbe2c5",
        "colab": {
          "base_uri": "https://localhost:8080/",
          "height": 34
        }
      },
      "source": [
        "# get the location of \"yr_merch_spent\" for the for loop\n",
        "df.columns.get_loc(\"yr_merch_spent\")"
      ],
      "execution_count": 26,
      "outputs": [
        {
          "output_type": "execute_result",
          "data": {
            "text/plain": [
              "14"
            ]
          },
          "metadata": {
            "tags": []
          },
          "execution_count": 26
        }
      ]
    },
    {
      "cell_type": "code",
      "metadata": {
        "id": "YpSS_uOFe0qA",
        "colab_type": "code",
        "outputId": "e1a07e4d-6735-47d2-d838-085de65feaf5",
        "colab": {
          "base_uri": "https://localhost:8080/",
          "height": 153
        }
      },
      "source": [
        "# write a for loop to clean the data\n",
        "for row in range(0, len(df[\"yr_merch_spent\"])):\n",
        "  if 'Below 50' in df.iloc[row, 14]:\n",
        "    df.iloc[row, 14] = \"50\"\n",
        "  elif '50 - 100' in df.iloc[row, 14]:\n",
        "    df.iloc[row, 14] = \"75\"\n",
        "  elif \"I don't spend anything on merchandise\" in df.iloc[row, 14]:\n",
        "    df.iloc[row, 14] = \"0\"\n",
        "  elif '100 - 200' in df.iloc[row, 14]:\n",
        "    df.iloc[row, 14] = \"150\"\n",
        "  elif 'Below 30' in df.iloc[row, 14]:\n",
        "    df.iloc[row, 14] = \"30\"\n",
        "  elif '10?' in df.iloc[row, 14]:\n",
        "    df.iloc[row, 14] = \"10\"\n",
        "  else:\n",
        "    df.iloc[row, 14] = \"500\"\n",
        "\n",
        "df[\"yr_merch_spent\"].value_counts()"
      ],
      "execution_count": 27,
      "outputs": [
        {
          "output_type": "execute_result",
          "data": {
            "text/plain": [
              "50     91\n",
              "75     57\n",
              "0      49\n",
              "150    25\n",
              "500    16\n",
              "30      1\n",
              "10      1\n",
              "Name: yr_merch_spent, dtype: int64"
            ]
          },
          "metadata": {
            "tags": []
          },
          "execution_count": 27
        }
      ]
    },
    {
      "cell_type": "markdown",
      "metadata": {
        "id": "XH-JGhuVcRE0",
        "colab_type": "text"
      },
      "source": [
        "Clean the \"age\" column"
      ]
    },
    {
      "cell_type": "code",
      "metadata": {
        "id": "N_7uPOUij706",
        "colab_type": "code",
        "outputId": "a7aa834b-51f0-4ee7-9177-201b9089b15b",
        "colab": {
          "base_uri": "https://localhost:8080/",
          "height": 102
        }
      },
      "source": [
        "df[\"age\"].value_counts()"
      ],
      "execution_count": 28,
      "outputs": [
        {
          "output_type": "execute_result",
          "data": {
            "text/plain": [
              "15 - 20 years    166\n",
              "21 - 26 years     37\n",
              "10 - 14 years     34\n",
              "27 - 30            3\n",
              "Name: age, dtype: int64"
            ]
          },
          "metadata": {
            "tags": []
          },
          "execution_count": 28
        }
      ]
    },
    {
      "cell_type": "code",
      "metadata": {
        "id": "_d7j11Hhknhk",
        "colab_type": "code",
        "outputId": "1b7625c4-dbb5-4bb1-b3ff-381b8f9bd354",
        "colab": {
          "base_uri": "https://localhost:8080/",
          "height": 102
        }
      },
      "source": [
        "# remove \"years\"\n",
        "age = df[\"age\"].apply(lambda x: x.split('y')[0])\n",
        "age = age.str.replace(\" \", \"\")\n",
        "age.value_counts()"
      ],
      "execution_count": 29,
      "outputs": [
        {
          "output_type": "execute_result",
          "data": {
            "text/plain": [
              "15-20    166\n",
              "21-26     37\n",
              "10-14     34\n",
              "27-30      3\n",
              "Name: age, dtype: int64"
            ]
          },
          "metadata": {
            "tags": []
          },
          "execution_count": 29
        }
      ]
    },
    {
      "cell_type": "code",
      "metadata": {
        "id": "vbZpnVQfmqfN",
        "colab_type": "code",
        "outputId": "a689c387-9cd5-4b2f-9ef4-959c8f5a894c",
        "colab": {
          "base_uri": "https://localhost:8080/",
          "height": 102
        }
      },
      "source": [
        "# apply split mean on age\n",
        "df[\"age\"] = age.apply(lambda x: split_mean(x))\n",
        "df[\"age\"].value_counts()"
      ],
      "execution_count": 30,
      "outputs": [
        {
          "output_type": "execute_result",
          "data": {
            "text/plain": [
              "17.5    166\n",
              "23.5     37\n",
              "12.0     34\n",
              "28.5      3\n",
              "Name: age, dtype: int64"
            ]
          },
          "metadata": {
            "tags": []
          },
          "execution_count": 30
        }
      ]
    },
    {
      "cell_type": "code",
      "metadata": {
        "id": "eRUsyywAw-Md",
        "colab_type": "code",
        "outputId": "3833b9ee-294c-4926-c10c-fbda09e18cf2",
        "colab": {
          "base_uri": "https://localhost:8080/",
          "height": 102
        }
      },
      "source": [
        "# round up the age\n",
        "df[\"age\"] = np.ceil(df[\"age\"]).astype(int)\n",
        "df[\"age\"].value_counts()"
      ],
      "execution_count": 31,
      "outputs": [
        {
          "output_type": "execute_result",
          "data": {
            "text/plain": [
              "18    166\n",
              "24     37\n",
              "12     34\n",
              "29      3\n",
              "Name: age, dtype: int64"
            ]
          },
          "metadata": {
            "tags": []
          },
          "execution_count": 31
        }
      ]
    },
    {
      "cell_type": "markdown",
      "metadata": {
        "id": "LtB0GUOKusm_",
        "colab_type": "text"
      },
      "source": [
        "Clean \"fav_grp\""
      ]
    },
    {
      "cell_type": "code",
      "metadata": {
        "id": "_EtbEPTZUahQ",
        "colab_type": "code",
        "outputId": "9f831e7b-5ff8-41df-b93e-2dae17e8c873",
        "colab": {
          "base_uri": "https://localhost:8080/",
          "height": 221
        }
      },
      "source": [
        "df['fav_grp'].value_counts()"
      ],
      "execution_count": 32,
      "outputs": [
        {
          "output_type": "execute_result",
          "data": {
            "text/plain": [
              "BTS                                                    104\n",
              "EXO                                                      7\n",
              "Stray Kids                                               7\n",
              "MONSTA X                                                 7\n",
              "BLACKPINK                                                5\n",
              "                                                      ... \n",
              "LOONA                                                    1\n",
              "Bigbang, GOT7 and all the above                          1\n",
              "INFINITE                                                 1\n",
              "BTS;EXO;MONSTA X;Ateez, nct, GOT7 too many to count      1\n",
              "Vixx and Super Junior                                    1\n",
              "Name: fav_grp, Length: 93, dtype: int64"
            ]
          },
          "metadata": {
            "tags": []
          },
          "execution_count": 32
        }
      ]
    },
    {
      "cell_type": "code",
      "metadata": {
        "id": "er3mNUBYeVpS",
        "colab_type": "code",
        "colab": {}
      },
      "source": [
        "# check how the groups are separated\n",
        "# ; and , / &\n",
        "# replace the above with commas\n",
        "grp = df['fav_grp']\n",
        "\n",
        "grp = grp.apply(lambda x: x.lower().replace(\";\", \",\").replace(\" and \", \",\").replace(\", \", \",\").replace(\" / \", \",\").replace(\" & \", \",\").replace(\". \", \",\"))"
      ],
      "execution_count": 0,
      "outputs": []
    },
    {
      "cell_type": "code",
      "metadata": {
        "id": "ZVfXy4dShys9",
        "colab_type": "code",
        "colab": {}
      },
      "source": [
        "# grp[0].count(\",\")+1\n",
        "\n",
        "# create a function that returns the num of groups they like\n",
        "def num_grp_like(df):\n",
        "  tmpArr = []\n",
        "  for i in range(0, 240):\n",
        "    num_grp = grp[i].count(\",\")+1\n",
        "    tmpArr.append(num_grp)\n",
        "  return tmpArr"
      ],
      "execution_count": 0,
      "outputs": []
    },
    {
      "cell_type": "code",
      "metadata": {
        "id": "qPAAa7rxm1Hx",
        "colab_type": "code",
        "colab": {
          "base_uri": "https://localhost:8080/",
          "height": 204
        },
        "outputId": "c2649809-4352-4386-939d-9d839ce25926"
      },
      "source": [
        "# append a new column \n",
        "df['num_gr_like'] = num_grp_like(df['fav_grp'])\n",
        "df['num_gr_like'].value_counts()"
      ],
      "execution_count": 35,
      "outputs": [
        {
          "output_type": "execute_result",
          "data": {
            "text/plain": [
              "1     165\n",
              "2      24\n",
              "3      17\n",
              "5      12\n",
              "4      10\n",
              "6       5\n",
              "7       3\n",
              "8       2\n",
              "37      1\n",
              "20      1\n",
              "Name: num_gr_like, dtype: int64"
            ]
          },
          "metadata": {
            "tags": []
          },
          "execution_count": 35
        }
      ]
    },
    {
      "cell_type": "code",
      "metadata": {
        "id": "0MhtXVd3kgUA",
        "colab_type": "code",
        "colab": {
          "base_uri": "https://localhost:8080/",
          "height": 819
        },
        "outputId": "431a8f8a-a60c-4633-da9c-b5c8807059a0"
      },
      "source": [
        "df['fav_grp'] = grp\n",
        "df.head()"
      ],
      "execution_count": 36,
      "outputs": [
        {
          "output_type": "execute_result",
          "data": {
            "text/html": [
              "<div>\n",
              "<style scoped>\n",
              "    .dataframe tbody tr th:only-of-type {\n",
              "        vertical-align: middle;\n",
              "    }\n",
              "\n",
              "    .dataframe tbody tr th {\n",
              "        vertical-align: top;\n",
              "    }\n",
              "\n",
              "    .dataframe thead th {\n",
              "        text-align: right;\n",
              "    }\n",
              "</style>\n",
              "<table border=\"1\" class=\"dataframe\">\n",
              "  <thead>\n",
              "    <tr style=\"text-align: right;\">\n",
              "      <th></th>\n",
              "      <th>fav_grp</th>\n",
              "      <th>popl_by_co_yn</th>\n",
              "      <th>reason</th>\n",
              "      <th>yr_listened</th>\n",
              "      <th>gender_pref</th>\n",
              "      <th>daily_music_hr</th>\n",
              "      <th>watch_MV_yn</th>\n",
              "      <th>daily_MV_hr</th>\n",
              "      <th>obsessed_yn</th>\n",
              "      <th>news_medium</th>\n",
              "      <th>pursuit</th>\n",
              "      <th>time_cons_yn</th>\n",
              "      <th>life_chg</th>\n",
              "      <th>pos_eff</th>\n",
              "      <th>yr_merch_spent</th>\n",
              "      <th>money_src</th>\n",
              "      <th>concert_yn</th>\n",
              "      <th>crazy_ev</th>\n",
              "      <th>age</th>\n",
              "      <th>country</th>\n",
              "      <th>job</th>\n",
              "      <th>gender</th>\n",
              "      <th>num_gr_like</th>\n",
              "    </tr>\n",
              "  </thead>\n",
              "  <tbody>\n",
              "    <tr>\n",
              "      <th>0</th>\n",
              "      <td>bts</td>\n",
              "      <td>Its gaining popularity</td>\n",
              "      <td>Its different from the usual music. I like som...</td>\n",
              "      <td>1.5</td>\n",
              "      <td>Its about the music, not the gender</td>\n",
              "      <td>5</td>\n",
              "      <td>Yes</td>\n",
              "      <td>2.5</td>\n",
              "      <td>Not sure</td>\n",
              "      <td>Subscribe to K-Pop news sites;Subscribe to You...</td>\n",
              "      <td>Learning about Korean/Asian culture;Pursue dan...</td>\n",
              "      <td>No</td>\n",
              "      <td>Led to you being cajoled (made fun of) by clas...</td>\n",
              "      <td>Reduced stress/anxiety/depression</td>\n",
              "      <td>75</td>\n",
              "      <td>I have a full - time job</td>\n",
              "      <td>Yes</td>\n",
              "      <td>Missed days of work and school to attend concerts</td>\n",
              "      <td>18</td>\n",
              "      <td>A country in the UK</td>\n",
              "      <td>Sales</td>\n",
              "      <td>Female</td>\n",
              "      <td>1</td>\n",
              "    </tr>\n",
              "    <tr>\n",
              "      <th>1</th>\n",
              "      <td>bts</td>\n",
              "      <td>Its gaining popularity</td>\n",
              "      <td>Its different from the usual music. I like som...</td>\n",
              "      <td>3.5</td>\n",
              "      <td>I listen to both</td>\n",
              "      <td>3</td>\n",
              "      <td>Yes</td>\n",
              "      <td>2.5</td>\n",
              "      <td>Yes</td>\n",
              "      <td>Subscribe to K-Pop news sites;Subscribe to You...</td>\n",
              "      <td>Learning music - either an instrument or singi...</td>\n",
              "      <td>Yes</td>\n",
              "      <td>Led to you being cajoled (made fun of) by clas...</td>\n",
              "      <td>Made friends who are like-minded</td>\n",
              "      <td>50</td>\n",
              "      <td>Working part-time</td>\n",
              "      <td>I want to, but the K-Pop groups don't come to ...</td>\n",
              "      <td>Listened to K-Pop without studying or working ...</td>\n",
              "      <td>18</td>\n",
              "      <td>A country in the UK</td>\n",
              "      <td>Student</td>\n",
              "      <td>Female</td>\n",
              "      <td>1</td>\n",
              "    </tr>\n",
              "    <tr>\n",
              "      <th>2</th>\n",
              "      <td>bts,monsta x</td>\n",
              "      <td>Its gaining popularity</td>\n",
              "      <td>Its different from the usual music. I like som...</td>\n",
              "      <td>4</td>\n",
              "      <td>Its about the music, not the gender</td>\n",
              "      <td>3</td>\n",
              "      <td>Yes</td>\n",
              "      <td>2.5</td>\n",
              "      <td>No</td>\n",
              "      <td>Subscribe to K-Pop news sites;Join K-pop socia...</td>\n",
              "      <td>Learning about Korean/Asian culture;Learn abou...</td>\n",
              "      <td>No</td>\n",
              "      <td>Led to you being cajoled (made fun of) by clas...</td>\n",
              "      <td>Made friends who are like-minded</td>\n",
              "      <td>75</td>\n",
              "      <td>Working part-time</td>\n",
              "      <td>Yes</td>\n",
              "      <td>Nothing as such</td>\n",
              "      <td>18</td>\n",
              "      <td>Other European countries</td>\n",
              "      <td>Student</td>\n",
              "      <td>Female</td>\n",
              "      <td>2</td>\n",
              "    </tr>\n",
              "    <tr>\n",
              "      <th>3</th>\n",
              "      <td>bts</td>\n",
              "      <td>Its gaining popularity</td>\n",
              "      <td>Its different from the usual music. I like som...</td>\n",
              "      <td>3.5</td>\n",
              "      <td>I listen to both</td>\n",
              "      <td>5</td>\n",
              "      <td>Yes</td>\n",
              "      <td>3.5</td>\n",
              "      <td>No</td>\n",
              "      <td>Subscribe to K-Pop news sites;Subscribe to You...</td>\n",
              "      <td>Learning about Korean/Asian culture;Visit Korea</td>\n",
              "      <td>No</td>\n",
              "      <td>Led to you being cajoled (made fun of) by clas...</td>\n",
              "      <td>Reduced stress/anxiety/depression</td>\n",
              "      <td>75</td>\n",
              "      <td>Working part-time</td>\n",
              "      <td>Yes</td>\n",
              "      <td>Nothing as such</td>\n",
              "      <td>24</td>\n",
              "      <td>USA</td>\n",
              "      <td>Student</td>\n",
              "      <td>Female</td>\n",
              "      <td>1</td>\n",
              "    </tr>\n",
              "    <tr>\n",
              "      <th>4</th>\n",
              "      <td>bts</td>\n",
              "      <td>Yes</td>\n",
              "      <td>Its different from the usual music. I like som...</td>\n",
              "      <td>3.5</td>\n",
              "      <td>Yes</td>\n",
              "      <td>5</td>\n",
              "      <td>Yes</td>\n",
              "      <td>2.5</td>\n",
              "      <td>Not sure</td>\n",
              "      <td>Subscribe to Youtube channels</td>\n",
              "      <td>Learning about Korean/Asian culture</td>\n",
              "      <td>Yes</td>\n",
              "      <td>Led to you being cajoled (made fun of) by clas...</td>\n",
              "      <td>Reduced stress/anxiety/depression</td>\n",
              "      <td>150</td>\n",
              "      <td>Parents</td>\n",
              "      <td>I want to, but the K-Pop groups don't come to ...</td>\n",
              "      <td>Nothing as such</td>\n",
              "      <td>18</td>\n",
              "      <td>USA</td>\n",
              "      <td>Student</td>\n",
              "      <td>Female</td>\n",
              "      <td>1</td>\n",
              "    </tr>\n",
              "  </tbody>\n",
              "</table>\n",
              "</div>"
            ],
            "text/plain": [
              "        fav_grp           popl_by_co_yn  ...  gender num_gr_like\n",
              "0           bts  Its gaining popularity  ...  Female           1\n",
              "1           bts  Its gaining popularity  ...  Female           1\n",
              "2  bts,monsta x  Its gaining popularity  ...  Female           2\n",
              "3           bts  Its gaining popularity  ...  Female           1\n",
              "4           bts                     Yes  ...  Female           1\n",
              "\n",
              "[5 rows x 23 columns]"
            ]
          },
          "metadata": {
            "tags": []
          },
          "execution_count": 36
        }
      ]
    },
    {
      "cell_type": "code",
      "metadata": {
        "id": "FJMBnblfriM-",
        "colab_type": "code",
        "outputId": "d8116bf8-058e-4d16-aa7c-9a8e6af3dd6a",
        "colab": {
          "base_uri": "https://localhost:8080/",
          "height": 173
        }
      },
      "source": [
        "bts_vs_others = df['fav_grp']\n",
        "\n",
        "for row in range(0, 240):\n",
        "  if \"bts\" in bts_vs_others.iloc[row]:\n",
        "    bts_vs_others.iloc[row] = \"bts\"\n",
        "  else:\n",
        "    bts_vs_others.iloc[row] = \"other(s)\"\n",
        "\n",
        "df[\"bts_vs_others\"] = bts_vs_others\n",
        "\n",
        "df.bts_vs_others.value_counts()"
      ],
      "execution_count": 37,
      "outputs": [
        {
          "output_type": "stream",
          "text": [
            "/usr/local/lib/python3.6/dist-packages/pandas/core/indexing.py:671: SettingWithCopyWarning: \n",
            "A value is trying to be set on a copy of a slice from a DataFrame\n",
            "\n",
            "See the caveats in the documentation: https://pandas.pydata.org/pandas-docs/stable/user_guide/indexing.html#returning-a-view-versus-a-copy\n",
            "  self._setitem_with_indexer(indexer, value)\n"
          ],
          "name": "stderr"
        },
        {
          "output_type": "execute_result",
          "data": {
            "text/plain": [
              "bts         163\n",
              "other(s)     77\n",
              "Name: bts_vs_others, dtype: int64"
            ]
          },
          "metadata": {
            "tags": []
          },
          "execution_count": 37
        }
      ]
    },
    {
      "cell_type": "code",
      "metadata": {
        "id": "CuKEPC0EvbF8",
        "colab_type": "code",
        "colab": {
          "base_uri": "https://localhost:8080/",
          "height": 1000
        },
        "outputId": "cb6d24eb-bf03-401a-bb5a-33fe91a1f565"
      },
      "source": [
        "df.head(10)"
      ],
      "execution_count": 38,
      "outputs": [
        {
          "output_type": "execute_result",
          "data": {
            "text/html": [
              "<div>\n",
              "<style scoped>\n",
              "    .dataframe tbody tr th:only-of-type {\n",
              "        vertical-align: middle;\n",
              "    }\n",
              "\n",
              "    .dataframe tbody tr th {\n",
              "        vertical-align: top;\n",
              "    }\n",
              "\n",
              "    .dataframe thead th {\n",
              "        text-align: right;\n",
              "    }\n",
              "</style>\n",
              "<table border=\"1\" class=\"dataframe\">\n",
              "  <thead>\n",
              "    <tr style=\"text-align: right;\">\n",
              "      <th></th>\n",
              "      <th>fav_grp</th>\n",
              "      <th>popl_by_co_yn</th>\n",
              "      <th>reason</th>\n",
              "      <th>yr_listened</th>\n",
              "      <th>gender_pref</th>\n",
              "      <th>daily_music_hr</th>\n",
              "      <th>watch_MV_yn</th>\n",
              "      <th>daily_MV_hr</th>\n",
              "      <th>obsessed_yn</th>\n",
              "      <th>news_medium</th>\n",
              "      <th>pursuit</th>\n",
              "      <th>time_cons_yn</th>\n",
              "      <th>life_chg</th>\n",
              "      <th>pos_eff</th>\n",
              "      <th>yr_merch_spent</th>\n",
              "      <th>money_src</th>\n",
              "      <th>concert_yn</th>\n",
              "      <th>crazy_ev</th>\n",
              "      <th>age</th>\n",
              "      <th>country</th>\n",
              "      <th>job</th>\n",
              "      <th>gender</th>\n",
              "      <th>num_gr_like</th>\n",
              "      <th>bts_vs_others</th>\n",
              "    </tr>\n",
              "  </thead>\n",
              "  <tbody>\n",
              "    <tr>\n",
              "      <th>0</th>\n",
              "      <td>bts</td>\n",
              "      <td>Its gaining popularity</td>\n",
              "      <td>Its different from the usual music. I like som...</td>\n",
              "      <td>1.5</td>\n",
              "      <td>Its about the music, not the gender</td>\n",
              "      <td>5</td>\n",
              "      <td>Yes</td>\n",
              "      <td>2.5</td>\n",
              "      <td>Not sure</td>\n",
              "      <td>Subscribe to K-Pop news sites;Subscribe to You...</td>\n",
              "      <td>Learning about Korean/Asian culture;Pursue dan...</td>\n",
              "      <td>No</td>\n",
              "      <td>Led to you being cajoled (made fun of) by clas...</td>\n",
              "      <td>Reduced stress/anxiety/depression</td>\n",
              "      <td>75</td>\n",
              "      <td>I have a full - time job</td>\n",
              "      <td>Yes</td>\n",
              "      <td>Missed days of work and school to attend concerts</td>\n",
              "      <td>18</td>\n",
              "      <td>A country in the UK</td>\n",
              "      <td>Sales</td>\n",
              "      <td>Female</td>\n",
              "      <td>1</td>\n",
              "      <td>bts</td>\n",
              "    </tr>\n",
              "    <tr>\n",
              "      <th>1</th>\n",
              "      <td>bts</td>\n",
              "      <td>Its gaining popularity</td>\n",
              "      <td>Its different from the usual music. I like som...</td>\n",
              "      <td>3.5</td>\n",
              "      <td>I listen to both</td>\n",
              "      <td>3</td>\n",
              "      <td>Yes</td>\n",
              "      <td>2.5</td>\n",
              "      <td>Yes</td>\n",
              "      <td>Subscribe to K-Pop news sites;Subscribe to You...</td>\n",
              "      <td>Learning music - either an instrument or singi...</td>\n",
              "      <td>Yes</td>\n",
              "      <td>Led to you being cajoled (made fun of) by clas...</td>\n",
              "      <td>Made friends who are like-minded</td>\n",
              "      <td>50</td>\n",
              "      <td>Working part-time</td>\n",
              "      <td>I want to, but the K-Pop groups don't come to ...</td>\n",
              "      <td>Listened to K-Pop without studying or working ...</td>\n",
              "      <td>18</td>\n",
              "      <td>A country in the UK</td>\n",
              "      <td>Student</td>\n",
              "      <td>Female</td>\n",
              "      <td>1</td>\n",
              "      <td>bts</td>\n",
              "    </tr>\n",
              "    <tr>\n",
              "      <th>2</th>\n",
              "      <td>bts</td>\n",
              "      <td>Its gaining popularity</td>\n",
              "      <td>Its different from the usual music. I like som...</td>\n",
              "      <td>4</td>\n",
              "      <td>Its about the music, not the gender</td>\n",
              "      <td>3</td>\n",
              "      <td>Yes</td>\n",
              "      <td>2.5</td>\n",
              "      <td>No</td>\n",
              "      <td>Subscribe to K-Pop news sites;Join K-pop socia...</td>\n",
              "      <td>Learning about Korean/Asian culture;Learn abou...</td>\n",
              "      <td>No</td>\n",
              "      <td>Led to you being cajoled (made fun of) by clas...</td>\n",
              "      <td>Made friends who are like-minded</td>\n",
              "      <td>75</td>\n",
              "      <td>Working part-time</td>\n",
              "      <td>Yes</td>\n",
              "      <td>Nothing as such</td>\n",
              "      <td>18</td>\n",
              "      <td>Other European countries</td>\n",
              "      <td>Student</td>\n",
              "      <td>Female</td>\n",
              "      <td>2</td>\n",
              "      <td>bts</td>\n",
              "    </tr>\n",
              "    <tr>\n",
              "      <th>3</th>\n",
              "      <td>bts</td>\n",
              "      <td>Its gaining popularity</td>\n",
              "      <td>Its different from the usual music. I like som...</td>\n",
              "      <td>3.5</td>\n",
              "      <td>I listen to both</td>\n",
              "      <td>5</td>\n",
              "      <td>Yes</td>\n",
              "      <td>3.5</td>\n",
              "      <td>No</td>\n",
              "      <td>Subscribe to K-Pop news sites;Subscribe to You...</td>\n",
              "      <td>Learning about Korean/Asian culture;Visit Korea</td>\n",
              "      <td>No</td>\n",
              "      <td>Led to you being cajoled (made fun of) by clas...</td>\n",
              "      <td>Reduced stress/anxiety/depression</td>\n",
              "      <td>75</td>\n",
              "      <td>Working part-time</td>\n",
              "      <td>Yes</td>\n",
              "      <td>Nothing as such</td>\n",
              "      <td>24</td>\n",
              "      <td>USA</td>\n",
              "      <td>Student</td>\n",
              "      <td>Female</td>\n",
              "      <td>1</td>\n",
              "      <td>bts</td>\n",
              "    </tr>\n",
              "    <tr>\n",
              "      <th>4</th>\n",
              "      <td>bts</td>\n",
              "      <td>Yes</td>\n",
              "      <td>Its different from the usual music. I like som...</td>\n",
              "      <td>3.5</td>\n",
              "      <td>Yes</td>\n",
              "      <td>5</td>\n",
              "      <td>Yes</td>\n",
              "      <td>2.5</td>\n",
              "      <td>Not sure</td>\n",
              "      <td>Subscribe to Youtube channels</td>\n",
              "      <td>Learning about Korean/Asian culture</td>\n",
              "      <td>Yes</td>\n",
              "      <td>Led to you being cajoled (made fun of) by clas...</td>\n",
              "      <td>Reduced stress/anxiety/depression</td>\n",
              "      <td>150</td>\n",
              "      <td>Parents</td>\n",
              "      <td>I want to, but the K-Pop groups don't come to ...</td>\n",
              "      <td>Nothing as such</td>\n",
              "      <td>18</td>\n",
              "      <td>USA</td>\n",
              "      <td>Student</td>\n",
              "      <td>Female</td>\n",
              "      <td>1</td>\n",
              "      <td>bts</td>\n",
              "    </tr>\n",
              "    <tr>\n",
              "      <th>5</th>\n",
              "      <td>bts</td>\n",
              "      <td>Its gaining popularity</td>\n",
              "      <td>Its different from the usual music. I like som...</td>\n",
              "      <td>4</td>\n",
              "      <td>Yes</td>\n",
              "      <td>3</td>\n",
              "      <td>Yes</td>\n",
              "      <td>1.0</td>\n",
              "      <td>No</td>\n",
              "      <td>Subscribe to K-Pop news sites</td>\n",
              "      <td>Learning about Korean/Asian culture</td>\n",
              "      <td>No</td>\n",
              "      <td>Led to you being cajoled (made fun of) by clas...</td>\n",
              "      <td>Made friends who are like-minded</td>\n",
              "      <td>50</td>\n",
              "      <td>Working part-time</td>\n",
              "      <td>I want to, but the K-Pop groups don't come to ...</td>\n",
              "      <td>Constantly avoid going out with friends/family...</td>\n",
              "      <td>18</td>\n",
              "      <td>USA</td>\n",
              "      <td>Student</td>\n",
              "      <td>Female</td>\n",
              "      <td>5</td>\n",
              "      <td>bts</td>\n",
              "    </tr>\n",
              "    <tr>\n",
              "      <th>6</th>\n",
              "      <td>bts</td>\n",
              "      <td>I'm not sure</td>\n",
              "      <td>The idols connect with their fans in a way tha...</td>\n",
              "      <td>3.5</td>\n",
              "      <td>I listen to both</td>\n",
              "      <td>5</td>\n",
              "      <td>Yes</td>\n",
              "      <td>1.0</td>\n",
              "      <td>Yes</td>\n",
              "      <td>Subscribe to Youtube channels</td>\n",
              "      <td>Learn about Korean fashion/makeup</td>\n",
              "      <td>Yes</td>\n",
              "      <td>Reduced the amount of sleep you get</td>\n",
              "      <td>Made friends who are like-minded</td>\n",
              "      <td>50</td>\n",
              "      <td>Parents</td>\n",
              "      <td>I want to, but the K-Pop groups don't come to ...</td>\n",
              "      <td>Nothing as such</td>\n",
              "      <td>12</td>\n",
              "      <td>Canada</td>\n",
              "      <td>Student</td>\n",
              "      <td>Female</td>\n",
              "      <td>1</td>\n",
              "      <td>bts</td>\n",
              "    </tr>\n",
              "    <tr>\n",
              "      <th>7</th>\n",
              "      <td>bts</td>\n",
              "      <td>Yes</td>\n",
              "      <td>Its different from the usual music. I like som...</td>\n",
              "      <td>4</td>\n",
              "      <td>I listen to both</td>\n",
              "      <td>3</td>\n",
              "      <td>Yes</td>\n",
              "      <td>1.0</td>\n",
              "      <td>Yes</td>\n",
              "      <td>Subscribe to K-Pop news sites;Subscribe to You...</td>\n",
              "      <td>Learning about Korean/Asian culture;Pursue dan...</td>\n",
              "      <td>Not sure</td>\n",
              "      <td>Nothing really</td>\n",
              "      <td>Reduced stress/anxiety/depression</td>\n",
              "      <td>50</td>\n",
              "      <td>Parents</td>\n",
              "      <td>Yes</td>\n",
              "      <td>Nothing as such</td>\n",
              "      <td>18</td>\n",
              "      <td>USA</td>\n",
              "      <td>Student</td>\n",
              "      <td>Female</td>\n",
              "      <td>1</td>\n",
              "      <td>bts</td>\n",
              "    </tr>\n",
              "    <tr>\n",
              "      <th>8</th>\n",
              "      <td>other(s)</td>\n",
              "      <td>Its gaining popularity</td>\n",
              "      <td>Its different from the usual music. I like som...</td>\n",
              "      <td>3.5</td>\n",
              "      <td>I listen to both</td>\n",
              "      <td>5</td>\n",
              "      <td>Yes</td>\n",
              "      <td>2.5</td>\n",
              "      <td>Not sure</td>\n",
              "      <td>Subscribe to Youtube channels</td>\n",
              "      <td>Learning about Korean/Asian culture;Pursue dan...</td>\n",
              "      <td>Yes</td>\n",
              "      <td>Reduced the amount of sleep you get</td>\n",
              "      <td>Made friends who are like-minded</td>\n",
              "      <td>50</td>\n",
              "      <td>Parents</td>\n",
              "      <td>I want to, but the K-Pop groups don't come to ...</td>\n",
              "      <td>Listened to K-Pop without studying or working ...</td>\n",
              "      <td>12</td>\n",
              "      <td>A country in the UK</td>\n",
              "      <td>Student</td>\n",
              "      <td>Female</td>\n",
              "      <td>2</td>\n",
              "      <td>other(s)</td>\n",
              "    </tr>\n",
              "    <tr>\n",
              "      <th>9</th>\n",
              "      <td>bts</td>\n",
              "      <td>Yes</td>\n",
              "      <td>Its different from the usual music. I like som...</td>\n",
              "      <td>4</td>\n",
              "      <td>I listen to both</td>\n",
              "      <td>10</td>\n",
              "      <td>Yes</td>\n",
              "      <td>1.0</td>\n",
              "      <td>No</td>\n",
              "      <td>Subscribe to Youtube channels</td>\n",
              "      <td>Learning about Korean/Asian culture;Learn abou...</td>\n",
              "      <td>No</td>\n",
              "      <td>Nope</td>\n",
              "      <td>Reduced stress/anxiety/depression</td>\n",
              "      <td>0</td>\n",
              "      <td>Working part-time</td>\n",
              "      <td>I want to, but the K-Pop groups don't come to ...</td>\n",
              "      <td>Nothing as such</td>\n",
              "      <td>18</td>\n",
              "      <td>USA</td>\n",
              "      <td>Student</td>\n",
              "      <td>Female</td>\n",
              "      <td>1</td>\n",
              "      <td>bts</td>\n",
              "    </tr>\n",
              "  </tbody>\n",
              "</table>\n",
              "</div>"
            ],
            "text/plain": [
              "    fav_grp           popl_by_co_yn  ... num_gr_like bts_vs_others\n",
              "0       bts  Its gaining popularity  ...           1           bts\n",
              "1       bts  Its gaining popularity  ...           1           bts\n",
              "2       bts  Its gaining popularity  ...           2           bts\n",
              "3       bts  Its gaining popularity  ...           1           bts\n",
              "4       bts                     Yes  ...           1           bts\n",
              "5       bts  Its gaining popularity  ...           5           bts\n",
              "6       bts            I'm not sure  ...           1           bts\n",
              "7       bts                     Yes  ...           1           bts\n",
              "8  other(s)  Its gaining popularity  ...           2      other(s)\n",
              "9       bts                     Yes  ...           1           bts\n",
              "\n",
              "[10 rows x 24 columns]"
            ]
          },
          "metadata": {
            "tags": []
          },
          "execution_count": 38
        }
      ]
    },
    {
      "cell_type": "markdown",
      "metadata": {
        "id": "BaYVdMMH4ex0",
        "colab_type": "text"
      },
      "source": [
        "Clean \"news_medium\""
      ]
    },
    {
      "cell_type": "code",
      "metadata": {
        "id": "_5sci9PQvlAu",
        "colab_type": "code",
        "outputId": "f4c1ae52-411c-4a1e-febc-47b31330edb7",
        "colab": {
          "base_uri": "https://localhost:8080/",
          "height": 799
        }
      },
      "source": [
        "# check for if anything else needs to be re-labeled\n",
        "df[\"news_medium\"].value_counts()"
      ],
      "execution_count": 39,
      "outputs": [
        {
          "output_type": "execute_result",
          "data": {
            "text/plain": [
              "Subscribe to Youtube channels                                                                                    54\n",
              "Join K-pop social media groups                                                                                   38\n",
              "Subscribe to K-Pop news sites;Subscribe to Youtube channels;Join K-pop social media groups                       37\n",
              "Subscribe to Youtube channels;Join K-pop social media groups                                                     31\n",
              "Subscribe to K-Pop news sites                                                                                    17\n",
              "Subscribe to K-Pop news sites;Subscribe to Youtube channels                                                      15\n",
              "Subscribe to K-Pop news sites;Join K-pop social media groups                                                      6\n",
              "Twitter                                                                                                           5\n",
              "Subscribe to Youtube channels;Join K-pop social media groups;Keep updated via twitter                             1\n",
              "Subscribe to Youtube channels;Join K-pop social media groups;Stan Twitter                                         1\n",
              "Amino, Youtube,Twitter                                                                                            1\n",
              "Subscribe to Youtube channels;Join K-pop social media groups;Twitter and Army Amino                               1\n",
              "Check Twitter                                                                                                     1\n",
              "instagram. twitter                                                                                                1\n",
              "Subscribe to Youtube channels;Go on twitter                                                                       1\n",
              "Reddit                                                                                                            1\n",
              "follow on social media (twitter, instagram)                                                                       1\n",
              "Subscribe to Youtube channels;blog on tumblr                                                                      1\n",
              "Twitter is very informative                                                                                       1\n",
              "News tend to pop up on my feed. I do not like the overwhelming amount of drama some of these accounts post.       1\n",
              "I have allkpop tweets notifcations sent to my phone thats it realy                                                1\n",
              "Subscribe to Youtube channels;Join K-pop social media groups;Definitely being on twitter keeps me in the loop     1\n",
              "Subscribe to Youtube channels;Twitter                                                                             1\n",
              "Twitter, specifically Soompi                                                                                      1\n",
              "Subscribe to Youtube channels;Follow fellow kpop listeners on twitter                                             1\n",
              "Subscribe to Youtube channels;Join K-pop social media groups;Twitter and Instagram                                1\n",
              "I just hear about it from people or sometimes twitter/instagram fan accounts talk about it.                       1\n",
              "See whatâ€™s trending on Twitter or Youtube                                                                       1\n",
              "The Google app gives me kpop news at the bottom of the search engine                                              1\n",
              "Subscribe to K-Pop news sites;Twitter                                                                             1\n",
              "Subscribe to K-Pop news sites;Subscribe to Youtube channels;I have a Gc on WhatsApp that inform me on stuff       1\n",
              "follow them on social media                                                                                       1\n",
              "Seeing Tweets or Tumblr Posts                                                                                     1\n",
              "Subscribe to K-Pop news sites;Join K-pop social media groups;Soompi on Twitter                                    1\n",
              "None                                                                                                              1\n",
              "Keep up with whatever is hot on twitter                                                                           1\n",
              "Search on twitter                                                                                                 1\n",
              "Subscribe to K-Pop news sites;Subscribe to Youtube channels;Follow their official social media accounts           1\n",
              "I have an account on Twitter. It's enough.                                                                        1\n",
              "Subscribe to Youtube channels;Following fanbase on social media                                                   1\n",
              "Subscribe to Youtube channels;Join K-pop social media groups;Follow them on social media                          1\n",
              "Have a group chat with friend who like kpop and we update each other if we see something online                   1\n",
              "Subscribe to Youtube channels;Follow groups and members on twitter and instagram                                  1\n",
              "Twitter mutuals usually rt things onto my tl                                                                      1\n",
              "nothing sometimes it just randomly appears on my feed                                                             1\n",
              "Name: news_medium, dtype: int64"
            ]
          },
          "metadata": {
            "tags": []
          },
          "execution_count": 39
        }
      ]
    },
    {
      "cell_type": "code",
      "metadata": {
        "id": "UvuUD3Oordvx",
        "colab_type": "code",
        "colab": {
          "base_uri": "https://localhost:8080/",
          "height": 85
        },
        "outputId": "af03b1cc-878d-4bfb-f044-1b21cc36fe7e"
      },
      "source": [
        "# re-label news medium \n",
        "# YT, Social media(twitter, instagram), both YT and Social media, others(reddit, tumblr, etc)\n",
        "news = df['news_medium']\n",
        "\n",
        "news = news.apply(lambda x: x.lower())\n",
        "\n",
        "for row in range(0, 240):\n",
        "  if \"youtube\" in news.iloc[row]:\n",
        "    news.iloc[row] = \"youtube\"\n",
        "  elif \"twitter\" and \"instagram\" and \"social media\" in news.iloc[row]:\n",
        "    news.iloc[row] = \"social media (twitter, instagram)\"\n",
        "  else:\n",
        "    news.iloc[row] = \"others (reddit, tumbler, or none)\"\n",
        "\n",
        "news.value_counts()\n",
        "\n",
        "df['news_medium'] = news\n",
        "df['news_medium'].value_counts()"
      ],
      "execution_count": 40,
      "outputs": [
        {
          "output_type": "execute_result",
          "data": {
            "text/plain": [
              "youtube                              153\n",
              "social media (twitter, instagram)     47\n",
              "others (reddit, tumbler, or none)     40\n",
              "Name: news_medium, dtype: int64"
            ]
          },
          "metadata": {
            "tags": []
          },
          "execution_count": 40
        }
      ]
    },
    {
      "cell_type": "markdown",
      "metadata": {
        "id": "oGWVsiAy_Mj4",
        "colab_type": "text"
      },
      "source": [
        "Clean \"pursuit\""
      ]
    },
    {
      "cell_type": "code",
      "metadata": {
        "id": "q6V3PsEQ4YMD",
        "colab_type": "code",
        "outputId": "cd7f74f4-1850-4119-b603-0a7d2f4f55e4",
        "colab": {
          "base_uri": "https://localhost:8080/",
          "height": 785
        }
      },
      "source": [
        "df[\"pursuit\"].value_counts()"
      ],
      "execution_count": 41,
      "outputs": [
        {
          "output_type": "execute_result",
          "data": {
            "text/plain": [
              "Learning about Korean/Asian culture                                                                                                                                                                                                                  36\n",
              "Learning about Korean/Asian culture;Learn about Korean fashion/makeup                                                                                                                                                                                23\n",
              "Learning about Korean/Asian culture;Pursue dancing;Learn about Korean fashion/makeup;Visit Korea                                                                                                                                                     19\n",
              "Learning music - either an instrument or singing;Learning about Korean/Asian culture;Pursue dancing;Learn about Korean fashion/makeup;Visit Korea                                                                                                    16\n",
              "Learning about Korean/Asian culture;Visit Korea                                                                                                                                                                                                      16\n",
              "Learning about Korean/Asian culture;Learn about Korean fashion/makeup;Visit Korea                                                                                                                                                                    15\n",
              "Learning about Korean/Asian culture;Pursue dancing                                                                                                                                                                                                   11\n",
              "Learning about Korean/Asian culture;Pursue dancing;Visit Korea                                                                                                                                                                                       10\n",
              "Learning about Korean/Asian culture;Pursue dancing;Learn about Korean fashion/makeup                                                                                                                                                                  9\n",
              "Learning music - either an instrument or singing;Learning about Korean/Asian culture                                                                                                                                                                  7\n",
              "Learning music - either an instrument or singing;Learning about Korean/Asian culture;Pursue dancing;Visit Korea                                                                                                                                       7\n",
              "Learning music - either an instrument or singing;Learning about Korean/Asian culture;Pursue dancing                                                                                                                                                   7\n",
              "Learn about Korean fashion/makeup                                                                                                                                                                                                                     6\n",
              "Pursue dancing                                                                                                                                                                                                                                        6\n",
              "Learning music - either an instrument or singing                                                                                                                                                                                                      5\n",
              "Visit Korea                                                                                                                                                                                                                                           5\n",
              "Learning music - either an instrument or singing;Learning about Korean/Asian culture;Pursue dancing;Learn about Korean fashion/makeup                                                                                                                 4\n",
              "Learning music - either an instrument or singing;Learning about Korean/Asian culture;Learn about Korean fashion/makeup                                                                                                                                4\n",
              "Learn about Korean fashion/makeup;Visit Korea                                                                                                                                                                                                         3\n",
              "No                                                                                                                                                                                                                                                    3\n",
              "Learning music - either an instrument or singing;Learning about Korean/Asian culture;Visit Korea                                                                                                                                                      3\n",
              "Learning music - either an instrument or singing;Learning about Korean/Asian culture;Learn about Korean fashion/makeup;Visit Korea                                                                                                                    3\n",
              "Pursue dancing;Learn about Korean fashion/makeup                                                                                                                                                                                                      2\n",
              "Learning music - either an instrument or singing;Learning about Korean/Asian culture;Collecting kpop albums and become broke lol                                                                                                                      1\n",
              "Learning about Korean/Asian culture;Visit Korea;It's helped me improve my art and animation skills.                                                                                                                                                   1\n",
              "no                                                                                                                                                                                                                                                    1\n",
              "Pursue dancing;Visit Korea                                                                                                                                                                                                                            1\n",
              "Learning about Korean/Asian culture;Learn about Korean fashion/makeup;Visit Korea;Learn Korean                                                                                                                                                        1\n",
              "Learning about Korean/Asian culture;Visit Korea;Learning the Korean Language                                                                                                                                                                          1\n",
              "continuing to dance more                                                                                                                                                                                                                              1\n",
              "Things like learning instruments and culture are things I do, but it isn't because of kpop (like I would've still learned about it due to school and such)                                                                                            1\n",
              "Learning music - either an instrument or singing;Learning about korean culture and food                                                                                                                                                               1\n",
              "Learning music - either an instrument or singing;Pursue dancing;Visit Korea                                                                                                                                                                           1\n",
              "None, but I'd like to travel someday to Korea                                                                                                                                                                                                         1\n",
              "Fashion and dancing                                                                                                                                                                                                                                   1\n",
              "Learning about Korean/Asian culture;Learn about Korean fashion/makeup;It taught me to be more open minded                                                                                                                                             1\n",
              "Learning about Korean/Asian culture;Learn about Korean fashion/makeup;Learning more about producing and music making, more about dance and singing, but more technically speaking. Also video editing!                                                1\n",
              "Learning music - either an instrument or singing;Learning about Korean/Asian culture;Learn about Korean fashion/makeup;To open up to other types of artists that are not just Kpop groups like soloist and made be want to learn to speak Korean.     1\n",
              "Learning music - either an instrument or singing;Learning about Korean/Asian culture;Visit Korea;Learning the language                                                                                                                                1\n",
              "All of the above and I would like to visit Korea                                                                                                                                                                                                      1\n",
              "Learning music - either an instrument or singing;Learning about Korean/Asian culture;A new job choice                                                                                                                                                 1\n",
              "Learning music - either an instrument or singing;Learning about Korean/Asian culture;Pursue dancing;Learn about Korean fashion/makeup;Visit Korea;Learn drawing and following campaigns to help others                                                1\n",
              "Visit Korea;Learn the language                                                                                                                                                                                                                        1\n",
              "Name: pursuit, dtype: int64"
            ]
          },
          "metadata": {
            "tags": []
          },
          "execution_count": 41
        }
      ]
    },
    {
      "cell_type": "code",
      "metadata": {
        "id": "gz18HeAw_Tp3",
        "colab_type": "code",
        "colab": {}
      },
      "source": [
        "pursue = df['pursuit']\n",
        "pursue_test = pursue"
      ],
      "execution_count": 0,
      "outputs": []
    },
    {
      "cell_type": "code",
      "metadata": {
        "id": "w_rQBJc15zWW",
        "colab_type": "code",
        "colab": {}
      },
      "source": [
        "# re-label pursuit - \n",
        "# Learning about Korean/Asian culture\n",
        "# Learn about Korean fashion/makeup\n",
        "# Learning music - either an instrument or singing\n",
        "# pursue dancing\n",
        "# others\n",
        "\n",
        "pursue_test = pursue_test.apply(lambda x: x.lower())\n",
        "\n",
        "for row in range(0, 240):\n",
        "  if \"learning about korean/asian culture\" in pursue_test.iloc[row] and \";\" not in pursue_test.iloc[row]:\n",
        "    pursue_test.iloc[row] = \"learn the culture\"\n",
        "  elif \"learn about korean fashion/makeup\" in pursue_test.iloc[row] and \";\" not in pursue_test.iloc[row]:\n",
        "    pursue_test.iloc[row] = \"learn korean fashion/makeup\"\n",
        "  elif \"learning music - either an instrument or singing\" in pursue_test.iloc[row] and \";\" not in pursue_test.iloc[row]:\n",
        "    pursue_test.iloc[row] = \"learn music\"\n",
        "  elif \"pursue dancing\" in pursue_test.iloc[row] and \";\" not in pursue_test.iloc[row]:\n",
        "    pursue_test.iloc[row] = \"pursue dancing\"\n",
        "  elif \"no\" in pursue_test.iloc[row] and \";\" not in pursue_test.iloc[row]:\n",
        "    pursue_test.iloc[row] = \"none\"\n",
        "  else:\n",
        "    pursue_test.iloc[row] = \"others (combination of the the four and visit korea)\""
      ],
      "execution_count": 0,
      "outputs": []
    },
    {
      "cell_type": "code",
      "metadata": {
        "id": "Wlbx8thZ9RqC",
        "colab_type": "code",
        "colab": {
          "base_uri": "https://localhost:8080/",
          "height": 136
        },
        "outputId": "9aed6e88-6699-4057-a57a-47fcda24fc98"
      },
      "source": [
        "#pursue_test.value_counts()\n",
        "\n",
        "df[\"pursuit\"] = pursue_test\n",
        "df.pursuit.value_counts()"
      ],
      "execution_count": 44,
      "outputs": [
        {
          "output_type": "execute_result",
          "data": {
            "text/plain": [
              "others (combination of the the four and visit korea)    182\n",
              "learn the culture                                        36\n",
              "pursue dancing                                            6\n",
              "learn korean fashion/makeup                               6\n",
              "none                                                      5\n",
              "learn music                                               5\n",
              "Name: pursuit, dtype: int64"
            ]
          },
          "metadata": {
            "tags": []
          },
          "execution_count": 44
        }
      ]
    },
    {
      "cell_type": "markdown",
      "metadata": {
        "id": "_4hzaKJPZksb",
        "colab_type": "text"
      },
      "source": [
        "Cleaning \"time_cons_yn\""
      ]
    },
    {
      "cell_type": "code",
      "metadata": {
        "id": "2qkyKdWG6Ju_",
        "colab_type": "code",
        "outputId": "aba62071-4315-415f-bf6f-64d7507047b9",
        "colab": {
          "base_uri": "https://localhost:8080/",
          "height": 479
        }
      },
      "source": [
        "df['time_cons_yn'].value_counts()"
      ],
      "execution_count": 45,
      "outputs": [
        {
          "output_type": "execute_result",
          "data": {
            "text/plain": [
              "No                                                                                                                                                                                                                                                     115\n",
              "Yes                                                                                                                                                                                                                                                     69\n",
              "Not sure                                                                                                                                                                                                                                                34\n",
              "It used to but now Iâ€™ve learnt to control it                                                                                                                                                                                                           1\n",
              "Iâ€™ve slowly stopped watching kpop as much as I used to                                                                                                                                                                                                 1\n",
              "I wouldnâ€™t say that its taken over my life, it more of an intrest like e.g. a intrest in art                                                                                                                                                           1\n",
              "Sometimes                                                                                                                                                                                                                                                1\n",
              "As much as everything else in my life does                                                                                                                                                                                                               1\n",
              "When I first got into it                                                                                                                                                                                                                                 1\n",
              "Yes but I still manage time well                                                                                                                                                                                                                         1\n",
              "If you mean spending the night watching BTS crack or try not to laugh, than yes                                                                                                                                                                          1\n",
              "Yes, it had but Kpop isnâ€™t only just consuming my time. Itâ€™s also drawing, paint, and deal with school.                                                                                                                                              1\n",
              "It depends                                                                                                                                                                                                                                               1\n",
              "It depends on your definition of taken away. I am constantly listening to music and spend most of my day listening to KPop but I am still able to go out with family and get school work done. I would say KPop is a slightly time consuming hobby.      1\n",
              "From an outside view, you would probably think yes. However, I personally believe that leisure is very important for one's wellbeing. Therefore, I spend a lot of time keeping updated with kpop (and watching anime and stuff).                         1\n",
              "Not really                                                                                                                                                                                                                                               1\n",
              "It used to, not as much now that iâ€™m back in school                                                                                                                                                                                                    1\n",
              "Most of the time                                                                                                                                                                                                                                         1\n",
              "Not really becuase i make sure kpop doesnt get jn the way of my personal time with my friends.                                                                                                                                                           1\n",
              "I spend a lot of time with kpop, but Iâ€™ve learned how to budget and appreciate it when i can !                                                                                                                                                         1\n",
              "The music itself doesn't make much of a difference but I do go to more concerts now which takes up my time (and money).                                                                                                                                  1\n",
              "K-Pop doesn't take away my time. I have problems with procrastination, but not because of K-Pop.                                                                                                                                                         1\n",
              "It doesnâ€™t waste my time, instead itâ€™s just a time spender until I have to do something.                                                                                                                                                             1\n",
              "I would say I get everything I need to do done and spend the rest of the time doing/watching kpop related content                                                                                                                                        1\n",
              "Yes, but i csn focus on other thins if needed                                                                                                                                                                                                            1\n",
              "Name: time_cons_yn, dtype: int64"
            ]
          },
          "metadata": {
            "tags": []
          },
          "execution_count": 45
        }
      ]
    },
    {
      "cell_type": "code",
      "metadata": {
        "id": "wgwnM5ifDIul",
        "colab_type": "code",
        "colab": {}
      },
      "source": [
        "time_cons = df[\"time_cons_yn\"]\n",
        "time_cons_test = time_cons"
      ],
      "execution_count": 0,
      "outputs": []
    },
    {
      "cell_type": "code",
      "metadata": {
        "id": "eXJ6tpJpDQkE",
        "colab_type": "code",
        "outputId": "e8ecf188-3a4b-4fe9-fce8-a611554af39e",
        "colab": {
          "base_uri": "https://localhost:8080/",
          "height": 85
        }
      },
      "source": [
        "# re-label time_cons_yn \n",
        "# yes, no, not sure (depends), sometimes, used to, others\n",
        "\n",
        "time_cons_test = time_cons_test.apply(lambda x: x.lower())\n",
        "\n",
        "for row in range(0, 240):\n",
        "  if \"yes\" in time_cons_test.iloc[row]:\n",
        "    time_cons_test.iloc[row] = \"yes\"\n",
        "  elif \"no\" in time_cons_test.iloc[row]:\n",
        "    time_cons_test.iloc[row] = \"no\"\n",
        "  else:\n",
        "    time_cons_test.iloc[row] = \"others (sometimes, not sure)\"\n",
        "\n",
        "time_cons_test.value_counts()"
      ],
      "execution_count": 47,
      "outputs": [
        {
          "output_type": "execute_result",
          "data": {
            "text/plain": [
              "no                              155\n",
              "yes                              74\n",
              "others (sometimes, not sure)     11\n",
              "Name: time_cons_yn, dtype: int64"
            ]
          },
          "metadata": {
            "tags": []
          },
          "execution_count": 47
        }
      ]
    },
    {
      "cell_type": "code",
      "metadata": {
        "id": "ZFIiIcg7EYWc",
        "colab_type": "code",
        "colab": {}
      },
      "source": [
        "# overwrite it to df\n",
        "df[\"time_cons_yn\"] = time_cons_test"
      ],
      "execution_count": 0,
      "outputs": []
    },
    {
      "cell_type": "markdown",
      "metadata": {
        "id": "NaysljwWE3QE",
        "colab_type": "text"
      },
      "source": [
        "Clean \"life_chg\""
      ]
    },
    {
      "cell_type": "code",
      "metadata": {
        "id": "azoSjVKeE544",
        "colab_type": "code",
        "outputId": "eb1fd243-5270-422f-fc2f-316a9c8488f2",
        "colab": {
          "base_uri": "https://localhost:8080/",
          "height": 870
        }
      },
      "source": [
        "df.life_chg.value_counts()"
      ],
      "execution_count": 49,
      "outputs": [
        {
          "output_type": "execute_result",
          "data": {
            "text/plain": [
              "Led to you being cajoled (made fun of) by classmates and family                                                                                                                   93\n",
              "Reduced the amount of sleep you get                                                                                                                                               71\n",
              "Reduced your time to socialise with your friends/partners/family                                                                                                                  10\n",
              "Reduced the number of friends you have                                                                                                                                             7\n",
              "None                                                                                                                                                                               5\n",
              "None of the above                                                                                                                                                                  4\n",
              "No                                                                                                                                                                                 4\n",
              "Not really                                                                                                                                                                         3\n",
              "none of the above                                                                                                                                                                  3\n",
              "Nope                                                                                                                                                                               2\n",
              "no it doesn't                                                                                                                                                                      1\n",
              "no                                                                                                                                                                                 1\n",
              "I really dont see kpop affecting me, if anything, i got happier with the friends i met through it                                                                                  1\n",
              "Reduced the time spend to watch other tvshows ,movies ...                                                                                                                          1\n",
              "all of them                                                                                                                                                                        1\n",
              "Nothing really                                                                                                                                                                     1\n",
              "Itâ€™s the only music of genre I listen to and I Stan lots of group I have to on top on what the lastest thing is but I still continue with my life                                1\n",
              "Not really. Other than my dad poking fun everynow and then.                                                                                                                        1\n",
              "No? Itâ€™s just music                                                                                                                                                              1\n",
              "Made more friends because we like kpop                                                                                                                                             1\n",
              "I'd rather say that because of my connection with K-Pop, it has opened doorsfor me to make new friends (even to that of bosses).                                                   1\n",
              "No I'm fine. But I don't talk about it either.                                                                                                                                     1\n",
              "Increased number of friends                                                                                                                                                        1\n",
              "It has not negatively affected my quality of life                                                                                                                                  1\n",
              "it hasnâ€™t affected me negatively                                                                                                                                                 1\n",
              "Nothings changed with my lifestyle                                                                                                                                                 1\n",
              "Made me closer to friends                                                                                                                                                          1\n",
              "Made my bond with my friends stronger ! My family and some friends still make fun of me, but for the most part they accept it.                                                     1\n",
              "Not consumed, some people dont have lives out kpop and it shows, i treat this genre of music like most do with entertainment and just absorb it in my free time here and there     1\n",
              "If itâ€™s not balanced                                                                                                                                                             1\n",
              "none                                                                                                                                                                               1\n",
              "Small amount of criticism.                                                                                                                                                         1\n",
              "Changed my perspective on what occupation Iâ€™d like to persue in the future which is actually working as a translator ;)                                                          1\n",
              "reduced amount of sleep, as well, got made fun of                                                                                                                                  1\n",
              "Helped me to makw new friends and try new things                                                                                                                                   1\n",
              "Kpop has led me through difficult times honestly with just having music as a way to relive stress and being able to relate and understand the meaning of songs.                    1\n",
              "No it hasn't.                                                                                                                                                                      1\n",
              "K-pop has not affected my personal life.                                                                                                                                           1\n",
              "BTS has taught me to love myself since i was ostracized when i was in elementary                                                                                                   1\n",
              "All of the above                                                                                                                                                                   1\n",
              "Nothing as such                                                                                                                                                                    1\n",
              "Hasnâ€™t affected me negatively                                                                                                                                                    1\n",
              "No, because it hasnâ€™t affected my life.Cause I still do thing that I love even if I wasnâ€™t into Kpop.                                                                          1\n",
              "No affect.                                                                                                                                                                         1\n",
              "nope not at all                                                                                                                                                                    1\n",
              "Consuming kpop reduce my stress and make my more positive and open-minded person. Love myself, love yourself, peace.                                                               1\n",
              "Has not affected my life other than introducing me to some of my closest friends                                                                                                   1\n",
              "None of the above, I talk about it with a couple friends who also like kpop otherwise itâ€™s only in my own time. I donâ€™t talk about it around others and stuff                  1\n",
              "Name: life_chg, dtype: int64"
            ]
          },
          "metadata": {
            "tags": []
          },
          "execution_count": 49
        }
      ]
    },
    {
      "cell_type": "code",
      "metadata": {
        "id": "BwlYGarSFWvL",
        "colab_type": "code",
        "colab": {}
      },
      "source": [
        "lf_chg = df[\"life_chg\"]\n",
        "lf_chg_test = lf_chg"
      ],
      "execution_count": 0,
      "outputs": []
    },
    {
      "cell_type": "code",
      "metadata": {
        "id": "jgAFR-D5Fy7Y",
        "colab_type": "code",
        "outputId": "2ec054a7-9649-4ab7-b91b-3e9dd070778a",
        "colab": {
          "base_uri": "https://localhost:8080/",
          "height": 119
        }
      },
      "source": [
        "# re-label life_chg\n",
        "# Led to you being cajoled (made fun of) by classmates and family\n",
        "# Reduced the amount of sleep you get\n",
        "# Reduced your time to socialise with your friends/partners/family\n",
        "# none (no, not negative)\n",
        "# others (combination of the three, small criticism)\n",
        "\n",
        "lf_chg_test = lf_chg_test.apply(lambda x: x.lower())\n",
        "\n",
        "for row in range(0, 240):\n",
        "  if \"cajoled\" in lf_chg_test.iloc[row]:\n",
        "    lf_chg_test.iloc[row] = \"made fun of\"\n",
        "  elif \"amount of sleep\" in lf_chg_test.iloc[row]:\n",
        "    lf_chg_test.iloc[row] = \"reduced amount of sleep\"\n",
        "  elif \"friends\" and \"friends\" in lf_chg_test.iloc[row]:\n",
        "    lf_chg_test.iloc[row] = \"reduced time of socialized with friends/family\"\n",
        "  elif \"no\" in lf_chg_test.iloc[row]:\n",
        "    lf_chg_test.iloc[row] = \"none\"\n",
        "  else:\n",
        "    lf_chg_test.iloc[row] = \"others (combination of the negatives, small criticism)\"\n",
        "\n",
        "lf_chg_test.value_counts()"
      ],
      "execution_count": 51,
      "outputs": [
        {
          "output_type": "execute_result",
          "data": {
            "text/plain": [
              "made fun of                                               93\n",
              "reduced amount of sleep                                   72\n",
              "none                                                      38\n",
              "reduced time of socialized with friends/family            26\n",
              "others (combination of the negatives, small criticism)    11\n",
              "Name: life_chg, dtype: int64"
            ]
          },
          "metadata": {
            "tags": []
          },
          "execution_count": 51
        }
      ]
    },
    {
      "cell_type": "code",
      "metadata": {
        "id": "87qxguo2ISh_",
        "colab_type": "code",
        "outputId": "49b65759-2f10-418e-ce98-5bb016370861",
        "colab": {
          "base_uri": "https://localhost:8080/",
          "height": 1000
        }
      },
      "source": [
        "df[\"life_chg\"] = lf_chg_test\n",
        "df.head(10)"
      ],
      "execution_count": 52,
      "outputs": [
        {
          "output_type": "execute_result",
          "data": {
            "text/html": [
              "<div>\n",
              "<style scoped>\n",
              "    .dataframe tbody tr th:only-of-type {\n",
              "        vertical-align: middle;\n",
              "    }\n",
              "\n",
              "    .dataframe tbody tr th {\n",
              "        vertical-align: top;\n",
              "    }\n",
              "\n",
              "    .dataframe thead th {\n",
              "        text-align: right;\n",
              "    }\n",
              "</style>\n",
              "<table border=\"1\" class=\"dataframe\">\n",
              "  <thead>\n",
              "    <tr style=\"text-align: right;\">\n",
              "      <th></th>\n",
              "      <th>fav_grp</th>\n",
              "      <th>popl_by_co_yn</th>\n",
              "      <th>reason</th>\n",
              "      <th>yr_listened</th>\n",
              "      <th>gender_pref</th>\n",
              "      <th>daily_music_hr</th>\n",
              "      <th>watch_MV_yn</th>\n",
              "      <th>daily_MV_hr</th>\n",
              "      <th>obsessed_yn</th>\n",
              "      <th>news_medium</th>\n",
              "      <th>pursuit</th>\n",
              "      <th>time_cons_yn</th>\n",
              "      <th>life_chg</th>\n",
              "      <th>pos_eff</th>\n",
              "      <th>yr_merch_spent</th>\n",
              "      <th>money_src</th>\n",
              "      <th>concert_yn</th>\n",
              "      <th>crazy_ev</th>\n",
              "      <th>age</th>\n",
              "      <th>country</th>\n",
              "      <th>job</th>\n",
              "      <th>gender</th>\n",
              "      <th>num_gr_like</th>\n",
              "      <th>bts_vs_others</th>\n",
              "    </tr>\n",
              "  </thead>\n",
              "  <tbody>\n",
              "    <tr>\n",
              "      <th>0</th>\n",
              "      <td>bts</td>\n",
              "      <td>Its gaining popularity</td>\n",
              "      <td>Its different from the usual music. I like som...</td>\n",
              "      <td>1.5</td>\n",
              "      <td>Its about the music, not the gender</td>\n",
              "      <td>5</td>\n",
              "      <td>Yes</td>\n",
              "      <td>2.5</td>\n",
              "      <td>Not sure</td>\n",
              "      <td>youtube</td>\n",
              "      <td>others (combination of the the four and visit ...</td>\n",
              "      <td>no</td>\n",
              "      <td>made fun of</td>\n",
              "      <td>Reduced stress/anxiety/depression</td>\n",
              "      <td>75</td>\n",
              "      <td>I have a full - time job</td>\n",
              "      <td>Yes</td>\n",
              "      <td>Missed days of work and school to attend concerts</td>\n",
              "      <td>18</td>\n",
              "      <td>A country in the UK</td>\n",
              "      <td>Sales</td>\n",
              "      <td>Female</td>\n",
              "      <td>1</td>\n",
              "      <td>bts</td>\n",
              "    </tr>\n",
              "    <tr>\n",
              "      <th>1</th>\n",
              "      <td>bts</td>\n",
              "      <td>Its gaining popularity</td>\n",
              "      <td>Its different from the usual music. I like som...</td>\n",
              "      <td>3.5</td>\n",
              "      <td>I listen to both</td>\n",
              "      <td>3</td>\n",
              "      <td>Yes</td>\n",
              "      <td>2.5</td>\n",
              "      <td>Yes</td>\n",
              "      <td>youtube</td>\n",
              "      <td>others (combination of the the four and visit ...</td>\n",
              "      <td>yes</td>\n",
              "      <td>made fun of</td>\n",
              "      <td>Made friends who are like-minded</td>\n",
              "      <td>50</td>\n",
              "      <td>Working part-time</td>\n",
              "      <td>I want to, but the K-Pop groups don't come to ...</td>\n",
              "      <td>Listened to K-Pop without studying or working ...</td>\n",
              "      <td>18</td>\n",
              "      <td>A country in the UK</td>\n",
              "      <td>Student</td>\n",
              "      <td>Female</td>\n",
              "      <td>1</td>\n",
              "      <td>bts</td>\n",
              "    </tr>\n",
              "    <tr>\n",
              "      <th>2</th>\n",
              "      <td>bts</td>\n",
              "      <td>Its gaining popularity</td>\n",
              "      <td>Its different from the usual music. I like som...</td>\n",
              "      <td>4</td>\n",
              "      <td>Its about the music, not the gender</td>\n",
              "      <td>3</td>\n",
              "      <td>Yes</td>\n",
              "      <td>2.5</td>\n",
              "      <td>No</td>\n",
              "      <td>social media (twitter, instagram)</td>\n",
              "      <td>others (combination of the the four and visit ...</td>\n",
              "      <td>no</td>\n",
              "      <td>made fun of</td>\n",
              "      <td>Made friends who are like-minded</td>\n",
              "      <td>75</td>\n",
              "      <td>Working part-time</td>\n",
              "      <td>Yes</td>\n",
              "      <td>Nothing as such</td>\n",
              "      <td>18</td>\n",
              "      <td>Other European countries</td>\n",
              "      <td>Student</td>\n",
              "      <td>Female</td>\n",
              "      <td>2</td>\n",
              "      <td>bts</td>\n",
              "    </tr>\n",
              "    <tr>\n",
              "      <th>3</th>\n",
              "      <td>bts</td>\n",
              "      <td>Its gaining popularity</td>\n",
              "      <td>Its different from the usual music. I like som...</td>\n",
              "      <td>3.5</td>\n",
              "      <td>I listen to both</td>\n",
              "      <td>5</td>\n",
              "      <td>Yes</td>\n",
              "      <td>3.5</td>\n",
              "      <td>No</td>\n",
              "      <td>youtube</td>\n",
              "      <td>others (combination of the the four and visit ...</td>\n",
              "      <td>no</td>\n",
              "      <td>made fun of</td>\n",
              "      <td>Reduced stress/anxiety/depression</td>\n",
              "      <td>75</td>\n",
              "      <td>Working part-time</td>\n",
              "      <td>Yes</td>\n",
              "      <td>Nothing as such</td>\n",
              "      <td>24</td>\n",
              "      <td>USA</td>\n",
              "      <td>Student</td>\n",
              "      <td>Female</td>\n",
              "      <td>1</td>\n",
              "      <td>bts</td>\n",
              "    </tr>\n",
              "    <tr>\n",
              "      <th>4</th>\n",
              "      <td>bts</td>\n",
              "      <td>Yes</td>\n",
              "      <td>Its different from the usual music. I like som...</td>\n",
              "      <td>3.5</td>\n",
              "      <td>Yes</td>\n",
              "      <td>5</td>\n",
              "      <td>Yes</td>\n",
              "      <td>2.5</td>\n",
              "      <td>Not sure</td>\n",
              "      <td>youtube</td>\n",
              "      <td>learn the culture</td>\n",
              "      <td>yes</td>\n",
              "      <td>made fun of</td>\n",
              "      <td>Reduced stress/anxiety/depression</td>\n",
              "      <td>150</td>\n",
              "      <td>Parents</td>\n",
              "      <td>I want to, but the K-Pop groups don't come to ...</td>\n",
              "      <td>Nothing as such</td>\n",
              "      <td>18</td>\n",
              "      <td>USA</td>\n",
              "      <td>Student</td>\n",
              "      <td>Female</td>\n",
              "      <td>1</td>\n",
              "      <td>bts</td>\n",
              "    </tr>\n",
              "    <tr>\n",
              "      <th>5</th>\n",
              "      <td>bts</td>\n",
              "      <td>Its gaining popularity</td>\n",
              "      <td>Its different from the usual music. I like som...</td>\n",
              "      <td>4</td>\n",
              "      <td>Yes</td>\n",
              "      <td>3</td>\n",
              "      <td>Yes</td>\n",
              "      <td>1.0</td>\n",
              "      <td>No</td>\n",
              "      <td>others (reddit, tumbler, or none)</td>\n",
              "      <td>learn the culture</td>\n",
              "      <td>no</td>\n",
              "      <td>made fun of</td>\n",
              "      <td>Made friends who are like-minded</td>\n",
              "      <td>50</td>\n",
              "      <td>Working part-time</td>\n",
              "      <td>I want to, but the K-Pop groups don't come to ...</td>\n",
              "      <td>Constantly avoid going out with friends/family...</td>\n",
              "      <td>18</td>\n",
              "      <td>USA</td>\n",
              "      <td>Student</td>\n",
              "      <td>Female</td>\n",
              "      <td>5</td>\n",
              "      <td>bts</td>\n",
              "    </tr>\n",
              "    <tr>\n",
              "      <th>6</th>\n",
              "      <td>bts</td>\n",
              "      <td>I'm not sure</td>\n",
              "      <td>The idols connect with their fans in a way tha...</td>\n",
              "      <td>3.5</td>\n",
              "      <td>I listen to both</td>\n",
              "      <td>5</td>\n",
              "      <td>Yes</td>\n",
              "      <td>1.0</td>\n",
              "      <td>Yes</td>\n",
              "      <td>youtube</td>\n",
              "      <td>learn korean fashion/makeup</td>\n",
              "      <td>yes</td>\n",
              "      <td>reduced amount of sleep</td>\n",
              "      <td>Made friends who are like-minded</td>\n",
              "      <td>50</td>\n",
              "      <td>Parents</td>\n",
              "      <td>I want to, but the K-Pop groups don't come to ...</td>\n",
              "      <td>Nothing as such</td>\n",
              "      <td>12</td>\n",
              "      <td>Canada</td>\n",
              "      <td>Student</td>\n",
              "      <td>Female</td>\n",
              "      <td>1</td>\n",
              "      <td>bts</td>\n",
              "    </tr>\n",
              "    <tr>\n",
              "      <th>7</th>\n",
              "      <td>bts</td>\n",
              "      <td>Yes</td>\n",
              "      <td>Its different from the usual music. I like som...</td>\n",
              "      <td>4</td>\n",
              "      <td>I listen to both</td>\n",
              "      <td>3</td>\n",
              "      <td>Yes</td>\n",
              "      <td>1.0</td>\n",
              "      <td>Yes</td>\n",
              "      <td>youtube</td>\n",
              "      <td>others (combination of the the four and visit ...</td>\n",
              "      <td>no</td>\n",
              "      <td>none</td>\n",
              "      <td>Reduced stress/anxiety/depression</td>\n",
              "      <td>50</td>\n",
              "      <td>Parents</td>\n",
              "      <td>Yes</td>\n",
              "      <td>Nothing as such</td>\n",
              "      <td>18</td>\n",
              "      <td>USA</td>\n",
              "      <td>Student</td>\n",
              "      <td>Female</td>\n",
              "      <td>1</td>\n",
              "      <td>bts</td>\n",
              "    </tr>\n",
              "    <tr>\n",
              "      <th>8</th>\n",
              "      <td>other(s)</td>\n",
              "      <td>Its gaining popularity</td>\n",
              "      <td>Its different from the usual music. I like som...</td>\n",
              "      <td>3.5</td>\n",
              "      <td>I listen to both</td>\n",
              "      <td>5</td>\n",
              "      <td>Yes</td>\n",
              "      <td>2.5</td>\n",
              "      <td>Not sure</td>\n",
              "      <td>youtube</td>\n",
              "      <td>others (combination of the the four and visit ...</td>\n",
              "      <td>yes</td>\n",
              "      <td>reduced amount of sleep</td>\n",
              "      <td>Made friends who are like-minded</td>\n",
              "      <td>50</td>\n",
              "      <td>Parents</td>\n",
              "      <td>I want to, but the K-Pop groups don't come to ...</td>\n",
              "      <td>Listened to K-Pop without studying or working ...</td>\n",
              "      <td>12</td>\n",
              "      <td>A country in the UK</td>\n",
              "      <td>Student</td>\n",
              "      <td>Female</td>\n",
              "      <td>2</td>\n",
              "      <td>other(s)</td>\n",
              "    </tr>\n",
              "    <tr>\n",
              "      <th>9</th>\n",
              "      <td>bts</td>\n",
              "      <td>Yes</td>\n",
              "      <td>Its different from the usual music. I like som...</td>\n",
              "      <td>4</td>\n",
              "      <td>I listen to both</td>\n",
              "      <td>10</td>\n",
              "      <td>Yes</td>\n",
              "      <td>1.0</td>\n",
              "      <td>No</td>\n",
              "      <td>youtube</td>\n",
              "      <td>others (combination of the the four and visit ...</td>\n",
              "      <td>no</td>\n",
              "      <td>none</td>\n",
              "      <td>Reduced stress/anxiety/depression</td>\n",
              "      <td>0</td>\n",
              "      <td>Working part-time</td>\n",
              "      <td>I want to, but the K-Pop groups don't come to ...</td>\n",
              "      <td>Nothing as such</td>\n",
              "      <td>18</td>\n",
              "      <td>USA</td>\n",
              "      <td>Student</td>\n",
              "      <td>Female</td>\n",
              "      <td>1</td>\n",
              "      <td>bts</td>\n",
              "    </tr>\n",
              "  </tbody>\n",
              "</table>\n",
              "</div>"
            ],
            "text/plain": [
              "    fav_grp           popl_by_co_yn  ... num_gr_like bts_vs_others\n",
              "0       bts  Its gaining popularity  ...           1           bts\n",
              "1       bts  Its gaining popularity  ...           1           bts\n",
              "2       bts  Its gaining popularity  ...           2           bts\n",
              "3       bts  Its gaining popularity  ...           1           bts\n",
              "4       bts                     Yes  ...           1           bts\n",
              "5       bts  Its gaining popularity  ...           5           bts\n",
              "6       bts            I'm not sure  ...           1           bts\n",
              "7       bts                     Yes  ...           1           bts\n",
              "8  other(s)  Its gaining popularity  ...           2      other(s)\n",
              "9       bts                     Yes  ...           1           bts\n",
              "\n",
              "[10 rows x 24 columns]"
            ]
          },
          "metadata": {
            "tags": []
          },
          "execution_count": 52
        }
      ]
    },
    {
      "cell_type": "markdown",
      "metadata": {
        "id": "bHMH7_cpJpI-",
        "colab_type": "text"
      },
      "source": [
        "Clean \"pos_eff\""
      ]
    },
    {
      "cell_type": "code",
      "metadata": {
        "id": "BAM0UOP1JsOg",
        "colab_type": "code",
        "outputId": "d8037b55-6fd7-4eff-c861-3106df68dced",
        "colab": {
          "base_uri": "https://localhost:8080/",
          "height": 496
        }
      },
      "source": [
        "df['pos_eff'].value_counts()"
      ],
      "execution_count": 53,
      "outputs": [
        {
          "output_type": "execute_result",
          "data": {
            "text/plain": [
              "Reduced stress/anxiety/depression                                                                                                                                                                                                                                                                                     131\n",
              "Made friends who are like-minded                                                                                                                                                                                                                                                                                       77\n",
              "Both                                                                                                                                                                                                                                                                                                                    7\n",
              "All of the above                                                                                                                                                                                                                                                                                                        3\n",
              "Kpop made me and overall better person to love myself and donâ€™t give a crap about haters (sorry about my French)                                                                                                                                                                                                      1\n",
              "Both answers above                                                                                                                                                                                                                                                                                                      1\n",
              "Not really, i mean i made a friend that likes the same group as me so thats nice                                                                                                                                                                                                                                        1\n",
              "It makes me super excited to start a new animation project whenever I have an idea.                                                                                                                                                                                                                                     1\n",
              "Being inspired by the lyrics/ messages                                                                                                                                                                                                                                                                                  1\n",
              "made friends on internet and when i went to high school (senior year)                                                                                                                                                                                                                                                   1\n",
              "Not only has it relieves stress but Iâ€™ve made a lot more friends and have become more social. I also travel a lot to go to shows so it creates great experiences. It has positively effected my life to learn more about other cultures and people.                                                                   1\n",
              "KPop groups have helped me overcome some of the hardest times of my life. It is my strength when I am weak. I feel it is there to comfort me when I feel sad.                                                                                                                                                           1\n",
              "Made me closer with my partner                                                                                                                                                                                                                                                                                          1\n",
              "both. Iâ€™ve met my best friend thanks to kpop and it makes me happy                                                                                                                                                                                                                                                    1\n",
              "Idk if what I'm about to say makes much sense. But, for example, BTS helped me understand that I have to love myself. CLC teaches me, through their music, that it's ok to be different, that the standards that our society create should never be our measuring cup. (I'm sorry if my english is not so correct)      1\n",
              "Its where I go to unwind and it helps with my anxiety, stress, and depression. Iâ€™ve also made a ton of internet friends and in real life friends from it too !                                                                                                                                                        1\n",
              "Both of the above                                                                                                                                                                                                                                                                                                       1\n",
              "Being exposed to different styles of music                                                                                                                                                                                                                                                                              1\n",
              "Everything about it is positive for me, except people being disrespectful to me for my liking, or the threatening of my wallet.                                                                                                                                                                                         1\n",
              "Reduced stress, made new friends and give me more experiences (like concert and meeting person from internet at real live).                                                                                                                                                                                             1\n",
              "Expanded my idea of what good music is overall                                                                                                                                                                                                                                                                          1\n",
              "I don't know                                                                                                                                                                                                                                                                                                            1\n",
              "No                                                                                                                                                                                                                                                                                                                      1\n",
              "Learning about something new                                                                                                                                                                                                                                                                                            1\n",
              "Nothing specific, I just like the music                                                                                                                                                                                                                                                                                 1\n",
              "all the above                                                                                                                                                                                                                                                                                                           1\n",
              "Name: pos_eff, dtype: int64"
            ]
          },
          "metadata": {
            "tags": []
          },
          "execution_count": 53
        }
      ]
    },
    {
      "cell_type": "code",
      "metadata": {
        "id": "7QgT0qBpKYKb",
        "colab_type": "code",
        "outputId": "7863700e-c1dd-4234-a6e3-175925ce28f2",
        "colab": {
          "base_uri": "https://localhost:8080/",
          "height": 102
        }
      },
      "source": [
        "# re-label positiv effects\n",
        "# Reduced stress/anxiety/depression\n",
        "# Made friends who are like-minded\n",
        "# All of the above\n",
        "# others (don't know, no effect, learning new things)\n",
        "\n",
        "pos_ef = df['pos_eff']\n",
        "pos_ef_test = pos_ef\n",
        "\n",
        "pos_ef_test = pos_ef_test.apply(lambda x: x.lower())\n",
        "\n",
        "for row in range(0, 240):\n",
        "  if \"reduced stress\" in pos_ef_test.iloc[row]:\n",
        "    pos_ef_test.iloc[row] = \"reduced stress/anxiety/depression\"\n",
        "  elif \"like-minded\" in pos_ef_test.iloc[row]:\n",
        "    pos_ef_test.iloc[row] = \"made friends\"\n",
        "  elif \"both\" in pos_ef_test.iloc[row]:\n",
        "    pos_ef_test.iloc[row] = \"both reduced stress and made friends\"\n",
        "  else:\n",
        "    pos_ef_test.iloc[row] = \"others (don't know, no effect, learning new things)\"\n",
        "\n",
        "pos_ef_test.value_counts()"
      ],
      "execution_count": 54,
      "outputs": [
        {
          "output_type": "execute_result",
          "data": {
            "text/plain": [
              "reduced stress/anxiety/depression                      132\n",
              "made friends                                            77\n",
              "others (don't know, no effect, learning new things)     21\n",
              "both reduced stress and made friends                    10\n",
              "Name: pos_eff, dtype: int64"
            ]
          },
          "metadata": {
            "tags": []
          },
          "execution_count": 54
        }
      ]
    },
    {
      "cell_type": "code",
      "metadata": {
        "id": "hXIMEuDrNUz9",
        "colab_type": "code",
        "colab": {}
      },
      "source": [
        "df['pos_eff'] = pos_ef_test"
      ],
      "execution_count": 0,
      "outputs": []
    },
    {
      "cell_type": "markdown",
      "metadata": {
        "id": "ehCNizBXNgoX",
        "colab_type": "text"
      },
      "source": [
        "Clean \"money_src\""
      ]
    },
    {
      "cell_type": "code",
      "metadata": {
        "id": "gHJQ283CNf9a",
        "colab_type": "code",
        "outputId": "cb89f491-a624-43a6-978a-36b8d200628e",
        "colab": {
          "base_uri": "https://localhost:8080/",
          "height": 751
        }
      },
      "source": [
        "df.money_src.value_counts()"
      ],
      "execution_count": 56,
      "outputs": [
        {
          "output_type": "execute_result",
          "data": {
            "text/plain": [
              "Parents                                                                                                                                              99\n",
              "Working part-time                                                                                                                                    76\n",
              "I have a full - time job                                                                                                                             22\n",
              "Borrow from friends/partner                                                                                                                           3\n",
              "No one                                                                                                                                                2\n",
              "I donâ€™t                                                                                                                                             2\n",
              "Savings                                                                                                                                               2\n",
              "I get money from bets, lending money, and doing people's work. I also get money for special occasions like birthdays, Christmas and New Year etc.     1\n",
              "i donâ€™t spend money on kpop merchandise.                                                                                                            1\n",
              "None of the above                                                                                                                                     1\n",
              "I just have it ðŸ—¿                                                                                                                                   1\n",
              "I babysit but thatâ€™s rare but thatâ€™s what I use to buy things                                                                                     1\n",
              "Usually I have my own money                                                                                                                           1\n",
              "Helping parents and grandparents, but also holiday money (chrismas or birthdays)                                                                      1\n",
              "I dont spend money on merch                                                                                                                           1\n",
              ".                                                                                                                                                     1\n",
              "Money I saved up                                                                                                                                      1\n",
              "Financial aid                                                                                                                                         1\n",
              "I'm broke so i cant buy anything.                                                                                                                     1\n",
              "I don't have money to spare on merchandise. Nu                                                                                                        1\n",
              "Has I said I don't spend money on merchandise, but if I did I would have use my own money.                                                            1\n",
              "Have never spent money on kpop merchandise                                                                                                            1\n",
              "Schoolarship                                                                                                                                          1\n",
              "Borrow from parents, and my part time job                                                                                                             1\n",
              "christmas/birthday                                                                                                                                    1\n",
              "Gift Cards                                                                                                                                            1\n",
              "none                                                                                                                                                  1\n",
              "My account                                                                                                                                            1\n",
              "Money that I've saved over the past 6 years from presents and other things.                                                                           1\n",
              "Money Iâ€™ve saved up                                                                                                                                 1\n",
              "My parents and me working both                                                                                                                        1\n",
              "Chores                                                                                                                                                1\n",
              "Again, I've only ever gotten merch as gifts.                                                                                                          1\n",
              "My parents and friends or, whever I get paid, I buy the merch.                                                                                        1\n",
              "Well, a little bit of parents paying me 10 dollars to go to work with my dad and also help out around my school.                                      1\n",
              "Chinese new year money, birthday money, gifts etc..                                                                                                   1\n",
              "Money I got as presents and saved over the years                                                                                                      1\n",
              "Pocket money and additional work.                                                                                                                     1\n",
              "I save my own money                                                                                                                                   1\n",
              "I donâ€™t!                                                                                                                                            1\n",
              "I get the money for special days, like my birthday, christmas, etc. or when i make an accomplishment, like keeping my grades up.                      1\n",
              "Name: money_src, dtype: int64"
            ]
          },
          "metadata": {
            "tags": []
          },
          "execution_count": 56
        }
      ]
    },
    {
      "cell_type": "code",
      "metadata": {
        "id": "hinTBQS5Nvxj",
        "colab_type": "code",
        "outputId": "f42897bc-60d7-4293-ae5b-55a92c4997f0",
        "colab": {
          "base_uri": "https://localhost:8080/",
          "height": 119
        }
      },
      "source": [
        "# re-label money source\n",
        "# parents\n",
        "# part-time\n",
        "# full-time\n",
        "# borrowed\n",
        "# others (gift, scholarship)\n",
        "\n",
        "money = df['money_src']\n",
        "money_test = money\n",
        "\n",
        "money_test = money_test.apply(lambda x: x.lower())\n",
        "\n",
        "for row in range(0, 240):\n",
        "  if \"parents\" in money_test.iloc[row]:\n",
        "    money_test.iloc[row] = \"from parents\"\n",
        "  elif \"part-time\" in money_test.iloc[row]:\n",
        "    money_test.iloc[row] = \"part-time job\"\n",
        "  elif \"a full\" in money_test.iloc[row]:\n",
        "    money_test.iloc[row] = \"full-time job\"\n",
        "  elif \"borrow\" in money_test.iloc[row]:\n",
        "    money_test.iloc[row] = \"borrowed\"\n",
        "  else:\n",
        "    money_test.iloc[row] = \"others (gift, scholarship, etc)\"\n",
        "\n",
        "money_test.value_counts()"
      ],
      "execution_count": 57,
      "outputs": [
        {
          "output_type": "execute_result",
          "data": {
            "text/plain": [
              "from parents                       104\n",
              "part-time job                       76\n",
              "others (gift, scholarship, etc)     35\n",
              "full-time job                       22\n",
              "borrowed                             3\n",
              "Name: money_src, dtype: int64"
            ]
          },
          "metadata": {
            "tags": []
          },
          "execution_count": 57
        }
      ]
    },
    {
      "cell_type": "code",
      "metadata": {
        "id": "EiiBO3Y_O7Rj",
        "colab_type": "code",
        "colab": {}
      },
      "source": [
        "df['money_src'] = money_test"
      ],
      "execution_count": 0,
      "outputs": []
    },
    {
      "cell_type": "markdown",
      "metadata": {
        "id": "hqsTOirCPHG-",
        "colab_type": "text"
      },
      "source": [
        "Clean \"crazy_ev\""
      ]
    },
    {
      "cell_type": "code",
      "metadata": {
        "id": "ho8k12iiPKk-",
        "colab_type": "code",
        "outputId": "bbe99a18-25c5-4ce0-805b-da700863cafb",
        "colab": {
          "base_uri": "https://localhost:8080/",
          "height": 428
        }
      },
      "source": [
        "df.crazy_ev.value_counts()"
      ],
      "execution_count": 59,
      "outputs": [
        {
          "output_type": "execute_result",
          "data": {
            "text/plain": [
              "Nothing as such                                                                                                                                                                                   133\n",
              "Listened to K-Pop without studying or working despite having a deadline                                                                                                                            46\n",
              "Missed days of work and school to attend concerts                                                                                                                                                  21\n",
              "Listened to K-Pop without studying or working despite having a deadline;Missed days of work and school to attend concerts                                                                           8\n",
              "Constantly avoid going out with friends/family to watch/listen K-Pop                                                                                                                                5\n",
              "Listened to K-Pop without studying or working despite having a deadline;Constantly avoid going out with friends/family to watch/listen K-Pop                                                        5\n",
              "Listened to K-Pop without studying or working despite having a deadline;Nothing as such                                                                                                             3\n",
              "Listened to K-Pop without studying or working despite having a deadline;Constantly avoid going out with friends/family to watch/listen K-Pop;Missed days of work and school to attend concerts      3\n",
              "Constantly avoid going out with friends/family to watch/listen K-Pop;Missed days of work and school to attend concerts                                                                              2\n",
              "Constantly avoid going out with friends/family to watch/listen K-Pop;Nothing as such                                                                                                                2\n",
              "Nothing as such; I mean, I almost skipped a day of school for Monsta X's comeback showcase that one time but I didn't.                                                                              1\n",
              "Slept on the street with my friends to be one of the first few people in at the Line store in Hollywood.                                                                                            1\n",
              "Just giving up on sleep to stream and stuff.                                                                                                                                                        1\n",
              "Listened to K-Pop without studying or working despite having a deadline;Missed days of work and school to attend concerts;Traveled to another state for a kpop concert                              1\n",
              "Stayed up really late/ woken up VERY early just for an award show/ comeback!                                                                                                                        1\n",
              "The heck kind of questionare is this? Lmao i have a life outside kpop unlike others                                                                                                                 1\n",
              "Listened to K-Pop without studying or working despite having a deadline;Again, because of my own personal problems with procrastination, not necessarily because of K-Pop itself.                   1\n",
              "I have anxiety but I danced to exo in a public place. Everyone thought I was crazy.                                                                                                                 1\n",
              "Missed days of work and school to attend concerts;missed school to ticket for bts                                                                                                                   1\n",
              "Listened to K-Pop without studying or working despite having a deadline;I do online school and watching kpop videos keeps me from doing any work at all.                                            1\n",
              "Waking up at like 2am to watch award shows even if I have to do stuff later that day                                                                                                                1\n",
              "Lost hours of sleep staying up for award shows and comebacks                                                                                                                                        1\n",
              "Name: crazy_ev, dtype: int64"
            ]
          },
          "metadata": {
            "tags": []
          },
          "execution_count": 59
        }
      ]
    },
    {
      "cell_type": "code",
      "metadata": {
        "id": "07BOg1oRPKev",
        "colab_type": "code",
        "outputId": "4d510439-a54e-4132-d55d-9ce1614774c2",
        "colab": {
          "base_uri": "https://localhost:8080/",
          "height": 85
        }
      },
      "source": [
        "# re-label crazy events\n",
        "# nothing\n",
        "# didn't study or work\n",
        "# missed school or work\n",
        "# others (combination of not studying/working and missing school/work, etc)\n",
        "\n",
        "crazy = df['crazy_ev']\n",
        "crazy_test = crazy\n",
        "\n",
        "crazy_test = crazy_test.apply(lambda x: x.lower())\n",
        "\n",
        "for row in range(0, 240):\n",
        "  if \"nothing\" in crazy_test.iloc[row] and \";\" not in crazy_test.iloc[row]:\n",
        "    crazy_test.iloc[row] = \"nothing\"\n",
        "  elif \"without studying or working\" in crazy_test.iloc[row] and \";\" not in crazy_test.iloc[row]:\n",
        "    crazy_test.iloc[row] = \"didn't study or work\"\n",
        "  elif \"Missed days\" in crazy_test.iloc[row]:\n",
        "    crazy_test.iloc[row] = \"missed school or work\"\n",
        "  else:\n",
        "    crazy_test.iloc[row] = \"others (combination of not studying/working and missing school/work, etc)\"\n",
        "\n",
        "crazy_test.value_counts()"
      ],
      "execution_count": 60,
      "outputs": [
        {
          "output_type": "execute_result",
          "data": {
            "text/plain": [
              "nothing                                                                      133\n",
              "others (combination of not studying/working and missing school/work, etc)     61\n",
              "didn't study or work                                                          46\n",
              "Name: crazy_ev, dtype: int64"
            ]
          },
          "metadata": {
            "tags": []
          },
          "execution_count": 60
        }
      ]
    },
    {
      "cell_type": "code",
      "metadata": {
        "id": "cZKv33kzPKQG",
        "colab_type": "code",
        "colab": {}
      },
      "source": [
        "df['crazy_ev'] = crazy_test"
      ],
      "execution_count": 0,
      "outputs": []
    },
    {
      "cell_type": "markdown",
      "metadata": {
        "id": "6Uyv-BfAQg_2",
        "colab_type": "text"
      },
      "source": [
        "Clean \"country\""
      ]
    },
    {
      "cell_type": "code",
      "metadata": {
        "id": "JQgA-5erQkbI",
        "colab_type": "code",
        "outputId": "cd1992e9-cae6-4815-aec5-0ab39b88046a",
        "colab": {
          "base_uri": "https://localhost:8080/",
          "height": 323
        }
      },
      "source": [
        "df.country.value_counts()"
      ],
      "execution_count": 62,
      "outputs": [
        {
          "output_type": "execute_result",
          "data": {
            "text/plain": [
              "USA                             140\n",
              "A country in the UK              26\n",
              "Other European countries         18\n",
              "Canada                           15\n",
              "Latin America                     8\n",
              "Australia                         7\n",
              "Germany                           6\n",
              "France                            5\n",
              "Other Asian country               5\n",
              "South Africa                      2\n",
              "New Zealand                       2\n",
              "A country from the Caribbean      1\n",
              "Turkey                            1\n",
              "canada                            1\n",
              "Sweden                            1\n",
              "CANNNAADAAAA BOIIIIIIS            1\n",
              "Finland                           1\n",
              "Name: country, dtype: int64"
            ]
          },
          "metadata": {
            "tags": []
          },
          "execution_count": 62
        }
      ]
    },
    {
      "cell_type": "code",
      "metadata": {
        "id": "F19zwR7CQkUG",
        "colab_type": "code",
        "outputId": "8a5f4fe1-5640-4ad7-dd31-1cf739300b4d",
        "colab": {
          "base_uri": "https://localhost:8080/",
          "height": 204
        }
      },
      "source": [
        "# relabel\n",
        "# usa, uk, other european, canada (can), latin amrica, australia, germany, other asian, france, others\n",
        "con = df['country']\n",
        "con_test = con\n",
        "\n",
        "con_test = con_test.apply(lambda x: x.lower())\n",
        "\n",
        "for row in range(0, 240):\n",
        "  if \"usa\" in con_test.iloc[row]:\n",
        "    con_test.iloc[row] = \"usa\"\n",
        "  elif \"uk\" in con_test.iloc[row]:\n",
        "    con_test.iloc[row] = \"uk\"\n",
        "  elif \"european\" in con_test.iloc[row]:\n",
        "    con_test.iloc[row] = \"other european countries\"\n",
        "  elif \"can\" in con_test.iloc[row]:\n",
        "    con_test.iloc[row] = \"canada\"\n",
        "  elif \"latin\" in con_test.iloc[row]:\n",
        "    con_test.iloc[row] = \"latin america\"\n",
        "  elif \"australia\" in con_test.iloc[row]:\n",
        "    con_test.iloc[row] = \"australia\"\n",
        "  elif \"germany\" in con_test.iloc[row]:\n",
        "    con_test.iloc[row] = \"germany\"\n",
        "  elif \"asian\" in con_test.iloc[row]:\n",
        "    con_test.iloc[row] = \"other asian countries\"\n",
        "  elif \"france\" in con_test.iloc[row]:\n",
        "    con_test.iloc[row] = \"france\"\n",
        "  else:\n",
        "    con_test.iloc[row] = \"others (south africa, new zealand, sweden, finland, turkey, caribbean)\"\n",
        "\n",
        "con_test.value_counts()"
      ],
      "execution_count": 63,
      "outputs": [
        {
          "output_type": "execute_result",
          "data": {
            "text/plain": [
              "usa                                                                       140\n",
              "uk                                                                         26\n",
              "other european countries                                                   18\n",
              "canada                                                                     17\n",
              "latin america                                                               8\n",
              "others (south africa, new zealand, sweden, finland, turkey, caribbean)      8\n",
              "australia                                                                   7\n",
              "germany                                                                     6\n",
              "france                                                                      5\n",
              "other asian countries                                                       5\n",
              "Name: country, dtype: int64"
            ]
          },
          "metadata": {
            "tags": []
          },
          "execution_count": 63
        }
      ]
    },
    {
      "cell_type": "code",
      "metadata": {
        "id": "g3dayp3AQkNQ",
        "colab_type": "code",
        "colab": {
          "base_uri": "https://localhost:8080/",
          "height": 819
        },
        "outputId": "fb535e97-beb2-4bbe-9188-e22854e0ddaa"
      },
      "source": [
        "df['country'] = con_test\n",
        "df.head()"
      ],
      "execution_count": 64,
      "outputs": [
        {
          "output_type": "execute_result",
          "data": {
            "text/html": [
              "<div>\n",
              "<style scoped>\n",
              "    .dataframe tbody tr th:only-of-type {\n",
              "        vertical-align: middle;\n",
              "    }\n",
              "\n",
              "    .dataframe tbody tr th {\n",
              "        vertical-align: top;\n",
              "    }\n",
              "\n",
              "    .dataframe thead th {\n",
              "        text-align: right;\n",
              "    }\n",
              "</style>\n",
              "<table border=\"1\" class=\"dataframe\">\n",
              "  <thead>\n",
              "    <tr style=\"text-align: right;\">\n",
              "      <th></th>\n",
              "      <th>fav_grp</th>\n",
              "      <th>popl_by_co_yn</th>\n",
              "      <th>reason</th>\n",
              "      <th>yr_listened</th>\n",
              "      <th>gender_pref</th>\n",
              "      <th>daily_music_hr</th>\n",
              "      <th>watch_MV_yn</th>\n",
              "      <th>daily_MV_hr</th>\n",
              "      <th>obsessed_yn</th>\n",
              "      <th>news_medium</th>\n",
              "      <th>pursuit</th>\n",
              "      <th>time_cons_yn</th>\n",
              "      <th>life_chg</th>\n",
              "      <th>pos_eff</th>\n",
              "      <th>yr_merch_spent</th>\n",
              "      <th>money_src</th>\n",
              "      <th>concert_yn</th>\n",
              "      <th>crazy_ev</th>\n",
              "      <th>age</th>\n",
              "      <th>country</th>\n",
              "      <th>job</th>\n",
              "      <th>gender</th>\n",
              "      <th>num_gr_like</th>\n",
              "      <th>bts_vs_others</th>\n",
              "    </tr>\n",
              "  </thead>\n",
              "  <tbody>\n",
              "    <tr>\n",
              "      <th>0</th>\n",
              "      <td>bts</td>\n",
              "      <td>Its gaining popularity</td>\n",
              "      <td>Its different from the usual music. I like som...</td>\n",
              "      <td>1.5</td>\n",
              "      <td>Its about the music, not the gender</td>\n",
              "      <td>5</td>\n",
              "      <td>Yes</td>\n",
              "      <td>2.5</td>\n",
              "      <td>Not sure</td>\n",
              "      <td>youtube</td>\n",
              "      <td>others (combination of the the four and visit ...</td>\n",
              "      <td>no</td>\n",
              "      <td>made fun of</td>\n",
              "      <td>reduced stress/anxiety/depression</td>\n",
              "      <td>75</td>\n",
              "      <td>full-time job</td>\n",
              "      <td>Yes</td>\n",
              "      <td>others (combination of not studying/working an...</td>\n",
              "      <td>18</td>\n",
              "      <td>uk</td>\n",
              "      <td>Sales</td>\n",
              "      <td>Female</td>\n",
              "      <td>1</td>\n",
              "      <td>bts</td>\n",
              "    </tr>\n",
              "    <tr>\n",
              "      <th>1</th>\n",
              "      <td>bts</td>\n",
              "      <td>Its gaining popularity</td>\n",
              "      <td>Its different from the usual music. I like som...</td>\n",
              "      <td>3.5</td>\n",
              "      <td>I listen to both</td>\n",
              "      <td>3</td>\n",
              "      <td>Yes</td>\n",
              "      <td>2.5</td>\n",
              "      <td>Yes</td>\n",
              "      <td>youtube</td>\n",
              "      <td>others (combination of the the four and visit ...</td>\n",
              "      <td>yes</td>\n",
              "      <td>made fun of</td>\n",
              "      <td>made friends</td>\n",
              "      <td>50</td>\n",
              "      <td>part-time job</td>\n",
              "      <td>I want to, but the K-Pop groups don't come to ...</td>\n",
              "      <td>others (combination of not studying/working an...</td>\n",
              "      <td>18</td>\n",
              "      <td>uk</td>\n",
              "      <td>Student</td>\n",
              "      <td>Female</td>\n",
              "      <td>1</td>\n",
              "      <td>bts</td>\n",
              "    </tr>\n",
              "    <tr>\n",
              "      <th>2</th>\n",
              "      <td>bts</td>\n",
              "      <td>Its gaining popularity</td>\n",
              "      <td>Its different from the usual music. I like som...</td>\n",
              "      <td>4</td>\n",
              "      <td>Its about the music, not the gender</td>\n",
              "      <td>3</td>\n",
              "      <td>Yes</td>\n",
              "      <td>2.5</td>\n",
              "      <td>No</td>\n",
              "      <td>social media (twitter, instagram)</td>\n",
              "      <td>others (combination of the the four and visit ...</td>\n",
              "      <td>no</td>\n",
              "      <td>made fun of</td>\n",
              "      <td>made friends</td>\n",
              "      <td>75</td>\n",
              "      <td>part-time job</td>\n",
              "      <td>Yes</td>\n",
              "      <td>nothing</td>\n",
              "      <td>18</td>\n",
              "      <td>other european countries</td>\n",
              "      <td>Student</td>\n",
              "      <td>Female</td>\n",
              "      <td>2</td>\n",
              "      <td>bts</td>\n",
              "    </tr>\n",
              "    <tr>\n",
              "      <th>3</th>\n",
              "      <td>bts</td>\n",
              "      <td>Its gaining popularity</td>\n",
              "      <td>Its different from the usual music. I like som...</td>\n",
              "      <td>3.5</td>\n",
              "      <td>I listen to both</td>\n",
              "      <td>5</td>\n",
              "      <td>Yes</td>\n",
              "      <td>3.5</td>\n",
              "      <td>No</td>\n",
              "      <td>youtube</td>\n",
              "      <td>others (combination of the the four and visit ...</td>\n",
              "      <td>no</td>\n",
              "      <td>made fun of</td>\n",
              "      <td>reduced stress/anxiety/depression</td>\n",
              "      <td>75</td>\n",
              "      <td>part-time job</td>\n",
              "      <td>Yes</td>\n",
              "      <td>nothing</td>\n",
              "      <td>24</td>\n",
              "      <td>usa</td>\n",
              "      <td>Student</td>\n",
              "      <td>Female</td>\n",
              "      <td>1</td>\n",
              "      <td>bts</td>\n",
              "    </tr>\n",
              "    <tr>\n",
              "      <th>4</th>\n",
              "      <td>bts</td>\n",
              "      <td>Yes</td>\n",
              "      <td>Its different from the usual music. I like som...</td>\n",
              "      <td>3.5</td>\n",
              "      <td>Yes</td>\n",
              "      <td>5</td>\n",
              "      <td>Yes</td>\n",
              "      <td>2.5</td>\n",
              "      <td>Not sure</td>\n",
              "      <td>youtube</td>\n",
              "      <td>learn the culture</td>\n",
              "      <td>yes</td>\n",
              "      <td>made fun of</td>\n",
              "      <td>reduced stress/anxiety/depression</td>\n",
              "      <td>150</td>\n",
              "      <td>from parents</td>\n",
              "      <td>I want to, but the K-Pop groups don't come to ...</td>\n",
              "      <td>nothing</td>\n",
              "      <td>18</td>\n",
              "      <td>usa</td>\n",
              "      <td>Student</td>\n",
              "      <td>Female</td>\n",
              "      <td>1</td>\n",
              "      <td>bts</td>\n",
              "    </tr>\n",
              "  </tbody>\n",
              "</table>\n",
              "</div>"
            ],
            "text/plain": [
              "  fav_grp           popl_by_co_yn  ... num_gr_like bts_vs_others\n",
              "0     bts  Its gaining popularity  ...           1           bts\n",
              "1     bts  Its gaining popularity  ...           1           bts\n",
              "2     bts  Its gaining popularity  ...           2           bts\n",
              "3     bts  Its gaining popularity  ...           1           bts\n",
              "4     bts                     Yes  ...           1           bts\n",
              "\n",
              "[5 rows x 24 columns]"
            ]
          },
          "metadata": {
            "tags": []
          },
          "execution_count": 64
        }
      ]
    },
    {
      "cell_type": "code",
      "metadata": {
        "id": "xJMZzmSiU1VD",
        "colab_type": "code",
        "outputId": "c27c6f57-5e7d-45ed-ec79-082d0bc78d93",
        "colab": {
          "base_uri": "https://localhost:8080/",
          "height": 819
        }
      },
      "source": [
        "# change the entire dataframe to lower case\n",
        "df = df.apply(lambda x: x.astype(str).str.lower())\n",
        "\n",
        "df.head()"
      ],
      "execution_count": 65,
      "outputs": [
        {
          "output_type": "execute_result",
          "data": {
            "text/html": [
              "<div>\n",
              "<style scoped>\n",
              "    .dataframe tbody tr th:only-of-type {\n",
              "        vertical-align: middle;\n",
              "    }\n",
              "\n",
              "    .dataframe tbody tr th {\n",
              "        vertical-align: top;\n",
              "    }\n",
              "\n",
              "    .dataframe thead th {\n",
              "        text-align: right;\n",
              "    }\n",
              "</style>\n",
              "<table border=\"1\" class=\"dataframe\">\n",
              "  <thead>\n",
              "    <tr style=\"text-align: right;\">\n",
              "      <th></th>\n",
              "      <th>fav_grp</th>\n",
              "      <th>popl_by_co_yn</th>\n",
              "      <th>reason</th>\n",
              "      <th>yr_listened</th>\n",
              "      <th>gender_pref</th>\n",
              "      <th>daily_music_hr</th>\n",
              "      <th>watch_MV_yn</th>\n",
              "      <th>daily_MV_hr</th>\n",
              "      <th>obsessed_yn</th>\n",
              "      <th>news_medium</th>\n",
              "      <th>pursuit</th>\n",
              "      <th>time_cons_yn</th>\n",
              "      <th>life_chg</th>\n",
              "      <th>pos_eff</th>\n",
              "      <th>yr_merch_spent</th>\n",
              "      <th>money_src</th>\n",
              "      <th>concert_yn</th>\n",
              "      <th>crazy_ev</th>\n",
              "      <th>age</th>\n",
              "      <th>country</th>\n",
              "      <th>job</th>\n",
              "      <th>gender</th>\n",
              "      <th>num_gr_like</th>\n",
              "      <th>bts_vs_others</th>\n",
              "    </tr>\n",
              "  </thead>\n",
              "  <tbody>\n",
              "    <tr>\n",
              "      <th>0</th>\n",
              "      <td>bts</td>\n",
              "      <td>its gaining popularity</td>\n",
              "      <td>its different from the usual music. i like som...</td>\n",
              "      <td>1.5</td>\n",
              "      <td>its about the music, not the gender</td>\n",
              "      <td>5</td>\n",
              "      <td>yes</td>\n",
              "      <td>2.5</td>\n",
              "      <td>not sure</td>\n",
              "      <td>youtube</td>\n",
              "      <td>others (combination of the the four and visit ...</td>\n",
              "      <td>no</td>\n",
              "      <td>made fun of</td>\n",
              "      <td>reduced stress/anxiety/depression</td>\n",
              "      <td>75</td>\n",
              "      <td>full-time job</td>\n",
              "      <td>yes</td>\n",
              "      <td>others (combination of not studying/working an...</td>\n",
              "      <td>18</td>\n",
              "      <td>uk</td>\n",
              "      <td>sales</td>\n",
              "      <td>female</td>\n",
              "      <td>1</td>\n",
              "      <td>bts</td>\n",
              "    </tr>\n",
              "    <tr>\n",
              "      <th>1</th>\n",
              "      <td>bts</td>\n",
              "      <td>its gaining popularity</td>\n",
              "      <td>its different from the usual music. i like som...</td>\n",
              "      <td>3.5</td>\n",
              "      <td>i listen to both</td>\n",
              "      <td>3</td>\n",
              "      <td>yes</td>\n",
              "      <td>2.5</td>\n",
              "      <td>yes</td>\n",
              "      <td>youtube</td>\n",
              "      <td>others (combination of the the four and visit ...</td>\n",
              "      <td>yes</td>\n",
              "      <td>made fun of</td>\n",
              "      <td>made friends</td>\n",
              "      <td>50</td>\n",
              "      <td>part-time job</td>\n",
              "      <td>i want to, but the k-pop groups don't come to ...</td>\n",
              "      <td>others (combination of not studying/working an...</td>\n",
              "      <td>18</td>\n",
              "      <td>uk</td>\n",
              "      <td>student</td>\n",
              "      <td>female</td>\n",
              "      <td>1</td>\n",
              "      <td>bts</td>\n",
              "    </tr>\n",
              "    <tr>\n",
              "      <th>2</th>\n",
              "      <td>bts</td>\n",
              "      <td>its gaining popularity</td>\n",
              "      <td>its different from the usual music. i like som...</td>\n",
              "      <td>4</td>\n",
              "      <td>its about the music, not the gender</td>\n",
              "      <td>3</td>\n",
              "      <td>yes</td>\n",
              "      <td>2.5</td>\n",
              "      <td>no</td>\n",
              "      <td>social media (twitter, instagram)</td>\n",
              "      <td>others (combination of the the four and visit ...</td>\n",
              "      <td>no</td>\n",
              "      <td>made fun of</td>\n",
              "      <td>made friends</td>\n",
              "      <td>75</td>\n",
              "      <td>part-time job</td>\n",
              "      <td>yes</td>\n",
              "      <td>nothing</td>\n",
              "      <td>18</td>\n",
              "      <td>other european countries</td>\n",
              "      <td>student</td>\n",
              "      <td>female</td>\n",
              "      <td>2</td>\n",
              "      <td>bts</td>\n",
              "    </tr>\n",
              "    <tr>\n",
              "      <th>3</th>\n",
              "      <td>bts</td>\n",
              "      <td>its gaining popularity</td>\n",
              "      <td>its different from the usual music. i like som...</td>\n",
              "      <td>3.5</td>\n",
              "      <td>i listen to both</td>\n",
              "      <td>5</td>\n",
              "      <td>yes</td>\n",
              "      <td>3.5</td>\n",
              "      <td>no</td>\n",
              "      <td>youtube</td>\n",
              "      <td>others (combination of the the four and visit ...</td>\n",
              "      <td>no</td>\n",
              "      <td>made fun of</td>\n",
              "      <td>reduced stress/anxiety/depression</td>\n",
              "      <td>75</td>\n",
              "      <td>part-time job</td>\n",
              "      <td>yes</td>\n",
              "      <td>nothing</td>\n",
              "      <td>24</td>\n",
              "      <td>usa</td>\n",
              "      <td>student</td>\n",
              "      <td>female</td>\n",
              "      <td>1</td>\n",
              "      <td>bts</td>\n",
              "    </tr>\n",
              "    <tr>\n",
              "      <th>4</th>\n",
              "      <td>bts</td>\n",
              "      <td>yes</td>\n",
              "      <td>its different from the usual music. i like som...</td>\n",
              "      <td>3.5</td>\n",
              "      <td>yes</td>\n",
              "      <td>5</td>\n",
              "      <td>yes</td>\n",
              "      <td>2.5</td>\n",
              "      <td>not sure</td>\n",
              "      <td>youtube</td>\n",
              "      <td>learn the culture</td>\n",
              "      <td>yes</td>\n",
              "      <td>made fun of</td>\n",
              "      <td>reduced stress/anxiety/depression</td>\n",
              "      <td>150</td>\n",
              "      <td>from parents</td>\n",
              "      <td>i want to, but the k-pop groups don't come to ...</td>\n",
              "      <td>nothing</td>\n",
              "      <td>18</td>\n",
              "      <td>usa</td>\n",
              "      <td>student</td>\n",
              "      <td>female</td>\n",
              "      <td>1</td>\n",
              "      <td>bts</td>\n",
              "    </tr>\n",
              "  </tbody>\n",
              "</table>\n",
              "</div>"
            ],
            "text/plain": [
              "  fav_grp           popl_by_co_yn  ... num_gr_like bts_vs_others\n",
              "0     bts  its gaining popularity  ...           1           bts\n",
              "1     bts  its gaining popularity  ...           1           bts\n",
              "2     bts  its gaining popularity  ...           2           bts\n",
              "3     bts  its gaining popularity  ...           1           bts\n",
              "4     bts                     yes  ...           1           bts\n",
              "\n",
              "[5 rows x 24 columns]"
            ]
          },
          "metadata": {
            "tags": []
          },
          "execution_count": 65
        }
      ]
    },
    {
      "cell_type": "code",
      "metadata": {
        "id": "KQPLkx0_RC9j",
        "colab_type": "code",
        "colab": {}
      },
      "source": [
        "# save the cleaned datafram to csv\n",
        "df.to_csv(\"cleaned kpop data.csv\", index = False)"
      ],
      "execution_count": 0,
      "outputs": []
    },
    {
      "cell_type": "code",
      "metadata": {
        "id": "E8H2vEaVX-er",
        "colab_type": "code",
        "colab": {}
      },
      "source": [
        ""
      ],
      "execution_count": 0,
      "outputs": []
    }
  ]
}